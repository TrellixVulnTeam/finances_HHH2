{
  "nbformat": 4,
  "nbformat_minor": 0,
  "metadata": {
    "colab": {
      "name": "Financas.ipynb",
      "version": "0.3.2",
      "provenance": [],
      "include_colab_link": true
    },
    "kernelspec": {
      "name": "python3",
      "display_name": "Python 3"
    }
  },
  "cells": [
    {
      "cell_type": "markdown",
      "metadata": {
        "id": "view-in-github",
        "colab_type": "text"
      },
      "source": [
        "<a href=\"https://colab.research.google.com/github/bcamera/finances/blob/Studying/Financas.ipynb\" target=\"_parent\"><img src=\"https://colab.research.google.com/assets/colab-badge.svg\" alt=\"Open In Colab\"/></a>"
      ]
    },
    {
      "cell_type": "markdown",
      "metadata": {
        "id": "77ktlwWRnDGT",
        "colab_type": "text"
      },
      "source": [
        "# Recursos Colab:\n",
        "* !git clone [git clone url]\n",
        "* !ls\n",
        "* !mkdir\n",
        "* !pip install [package name]\n",
        "* !apt-get install [package name]\n",
        "*  ?funcao() - Help da função\n",
        "\n",
        "\n",
        "# Funçoes: \n",
        "*  type() - Retorna o tipo\n",
        "*  int(), float() - Converte o valor\n",
        "*  max(), min() - Retorna o maior e menor valor respectivamente da lista etc\n",
        "*  abs() - Valor absoluto\n",
        "*  sum() - Soma da lista, variaveis etc\n",
        "*  round() - Arredondar um valor\n",
        "*  pow() - Elevar um valor a potencia\n",
        "*  len() - Comprimento da variável / numero de elementos de um objeto\n",
        "*  range(start, stop, step) \n",
        " \n",
        "# Lista:\n",
        " * Final da lista = -1, antecessor = -2 ...\n",
        " * del lista[-1] = deleta último elemento da lista\n",
        " * lista.append(\"string\") = adicionar elemento no final da lista\n",
        " * lista.extends(['string1', 'string2']) = adicionar uma lista a lista\n",
        " * lista[1:3] = recortar da posição 1 a 3\n",
        "  * lista [:2] = recortar da posição 0 a 2\n",
        "  * lista [2:] = recortar a partir da posicao 2 até o final\n",
        " * lista.index('string') = mostra a posicao da string\n",
        " * lista.sort(reverse=true) = sorteia decrescente\n",
        "\n",
        "\n",
        "# Dicionario:\n",
        "* dict = {chave : valor, chave2 : lista }\n",
        "* dict['chave'] = 'valor' // Adicionar elemento\n",
        "* dict.get(chave) = retorna valor\n"
      ]
    },
    {
      "cell_type": "markdown",
      "metadata": {
        "id": "n4tVRyMaPHYt",
        "colab_type": "text"
      },
      "source": [
        "# Importar Modulos:\n",
        "* import module as name\n",
        " * from name import sqrt as s - importar função específica do módulo\n",
        "\n",
        "# Pacotes para finanças:\n",
        "* numpy - arrays multidimensionais\n",
        "* pandas - organizar dados em formas de tabélas e anexar rótulos\n",
        " * pandas_datareader \n",
        "* matplotlib - plotagem 2d\n",
        "* Scipy - agrupa os 3 acima e outros\n",
        "* math - funções matemáticas\n",
        "* random - gerar números aleatórios\n",
        "* statsmodel - estatística descritiva, plotagem"
      ]
    },
    {
      "cell_type": "code",
      "metadata": {
        "id": "JCswGIVbSL-i",
        "colab_type": "code",
        "colab": {}
      },
      "source": [
        "import numpy\n",
        "import pandas\n",
        "import matplotlib\n",
        "import math\n",
        "import random\n",
        "import statsmodels\n",
        "import pandas_datareader"
      ],
      "execution_count": 0,
      "outputs": []
    },
    {
      "cell_type": "markdown",
      "metadata": {
        "id": "rW-QRKeaS8w_",
        "colab_type": "text"
      },
      "source": [
        "# Arrays:\n",
        "* Mesmo número de elementos e mesmo tipo de dados"
      ]
    },
    {
      "cell_type": "code",
      "metadata": {
        "id": "kYddBEj6S-N6",
        "colab_type": "code",
        "colab": {}
      },
      "source": [
        "import numpy as np"
      ],
      "execution_count": 0,
      "outputs": []
    },
    {
      "cell_type": "code",
      "metadata": {
        "id": "vtVC8YWFTGRt",
        "colab_type": "code",
        "outputId": "06f2e452-08c8-4d03-9b9e-e644319f30a0",
        "colab": {
          "base_uri": "https://localhost:8080/",
          "height": 51
        }
      },
      "source": [
        "a = np.array([[0,1,2,3],[4,5,6,7]])\n",
        "a"
      ],
      "execution_count": 0,
      "outputs": [
        {
          "output_type": "execute_result",
          "data": {
            "text/plain": [
              "array([[0, 1, 2, 3],\n",
              "       [4, 5, 6, 7]])"
            ]
          },
          "metadata": {
            "tags": []
          },
          "execution_count": 6
        }
      ]
    },
    {
      "cell_type": "code",
      "metadata": {
        "id": "2C3wHOWwT7P_",
        "colab_type": "code",
        "outputId": "ed2c3acc-d902-4dc8-f1d9-0d404ff61190",
        "colab": {
          "base_uri": "https://localhost:8080/",
          "height": 34
        }
      },
      "source": [
        "a.shape // mostra quantas linhas e quantos dados possui o array"
      ],
      "execution_count": 0,
      "outputs": [
        {
          "output_type": "execute_result",
          "data": {
            "text/plain": [
              "(2, 4)"
            ]
          },
          "metadata": {
            "tags": []
          },
          "execution_count": 7
        }
      ]
    },
    {
      "cell_type": "markdown",
      "metadata": {
        "id": "HYUm-Ng4Unuo",
        "colab_type": "text"
      },
      "source": [
        "# Random , gerando uma matriz"
      ]
    },
    {
      "cell_type": "code",
      "metadata": {
        "id": "G65eboTzUqwi",
        "colab_type": "code",
        "colab": {}
      },
      "source": [
        "import random"
      ],
      "execution_count": 0,
      "outputs": []
    },
    {
      "cell_type": "code",
      "metadata": {
        "id": "HGxUoZojVARu",
        "colab_type": "code",
        "colab": {}
      },
      "source": [
        "import numpy as np"
      ],
      "execution_count": 0,
      "outputs": []
    },
    {
      "cell_type": "code",
      "metadata": {
        "id": "CF-L1ch0VG1O",
        "colab_type": "code",
        "outputId": "353fdeab-8b1c-4cb7-d3f5-603d656a3f89",
        "colab": {
          "base_uri": "https://localhost:8080/",
          "height": 85
        }
      },
      "source": [
        "np.random.randint(1,9,(4,6))"
      ],
      "execution_count": 0,
      "outputs": [
        {
          "output_type": "execute_result",
          "data": {
            "text/plain": [
              "array([[6, 6, 1, 3, 7, 3],\n",
              "       [1, 3, 6, 8, 6, 5],\n",
              "       [2, 4, 7, 6, 2, 4],\n",
              "       [1, 2, 8, 1, 3, 8]])"
            ]
          },
          "metadata": {
            "tags": []
          },
          "execution_count": 19
        }
      ]
    },
    {
      "cell_type": "code",
      "metadata": {
        "id": "KW57ulhoVK4O",
        "colab_type": "code",
        "colab": {}
      },
      "source": [
        ""
      ],
      "execution_count": 0,
      "outputs": []
    },
    {
      "cell_type": "markdown",
      "metadata": {
        "id": "F21aK2HiWHNp",
        "colab_type": "text"
      },
      "source": [
        "# Fontes de Dados Financeiros\n",
        "* iex (python 3)\n",
        "* moningstar (recomendado)\n",
        "* alpha vantage (recomendado)\n",
        "* quandl\n",
        "* csv (no curso retirados da yahoo finance)\n",
        "* yahoo finance\n",
        "* google finance\n",
        "\n",
        "# Importando os dados do yahoo finanças\n",
        "* Pelo Yahoo Finance basta colocar .SA depois do código da ação negociada na Bovespa. Por exemplo, para a Petrobrás você deve colocar PETR4.SA, para a transmissão paulista TRPL4.SA e assim por diante."
      ]
    },
    {
      "cell_type": "code",
      "metadata": {
        "id": "kMIZf7AsYQYr",
        "colab_type": "code",
        "colab": {}
      },
      "source": [
        "import numpy as np\n",
        "import pandas as pd"
      ],
      "execution_count": 0,
      "outputs": []
    },
    {
      "cell_type": "code",
      "metadata": {
        "id": "bbg9i6K5YWCB",
        "colab_type": "code",
        "colab": {}
      },
      "source": [
        "ser = pd.Series(np.random.random(5), name = \"Column 01\") # Series com uma coluna apenas"
      ],
      "execution_count": 0,
      "outputs": []
    },
    {
      "cell_type": "code",
      "metadata": {
        "id": "-stKRcthYc2h",
        "colab_type": "code",
        "outputId": "92221aa7-0c79-41d4-afc7-fc4e8d679be7",
        "colab": {
          "base_uri": "https://localhost:8080/",
          "height": 119
        }
      },
      "source": [
        "ser"
      ],
      "execution_count": 0,
      "outputs": [
        {
          "output_type": "execute_result",
          "data": {
            "text/plain": [
              "0    0.620435\n",
              "1    0.918092\n",
              "2    0.074488\n",
              "3    0.806165\n",
              "4    0.702245\n",
              "Name: Column 01, dtype: float64"
            ]
          },
          "metadata": {
            "tags": []
          },
          "execution_count": 22
        }
      ]
    },
    {
      "cell_type": "code",
      "metadata": {
        "id": "1IgJfZshYkOA",
        "colab_type": "code",
        "outputId": "4390f832-a343-4cb6-e83d-f054cf6e849b",
        "colab": {
          "base_uri": "https://localhost:8080/",
          "height": 34
        }
      },
      "source": [
        "ser[2]"
      ],
      "execution_count": 0,
      "outputs": [
        {
          "output_type": "execute_result",
          "data": {
            "text/plain": [
              "0.19008684623896932"
            ]
          },
          "metadata": {
            "tags": []
          },
          "execution_count": 6
        }
      ]
    },
    {
      "cell_type": "code",
      "metadata": {
        "id": "GdoSTE0qYoDg",
        "colab_type": "code",
        "colab": {}
      },
      "source": [
        "from pandas_datareader import data as wb # Multicolunas"
      ],
      "execution_count": 0,
      "outputs": []
    },
    {
      "cell_type": "code",
      "metadata": {
        "id": "SyGLZOl7Y4C5",
        "colab_type": "code",
        "colab": {}
      },
      "source": [
        "PG = wb.DataReader('HGLG11.SA', data_source='yahoo', start='2018-01-01') # (ticker, fonte de dados, filtro) "
      ],
      "execution_count": 0,
      "outputs": []
    },
    {
      "cell_type": "code",
      "metadata": {
        "id": "F2zpIXexZL-3",
        "colab_type": "code",
        "colab": {}
      },
      "source": [
        "PG"
      ],
      "execution_count": 0,
      "outputs": []
    },
    {
      "cell_type": "markdown",
      "metadata": {
        "id": "PP36jIaOnS8j",
        "colab_type": "text"
      },
      "source": [
        "# Manipulando os dados\n",
        "* PG.info() - Exibe total de entradas, tipos e colunas e o que traz em cada uma\n",
        "* PG.head() - primeiras 5 linhas\n",
        " * PG.head(n) - n primeiras linhas\n",
        "* PG.tail() - ultimas 5 linhas\n",
        " * PG.tail(n) - n ultimas linhas\n",
        " \n",
        " # Exemplo: \n",
        "* Empresas: \n",
        " * Procter & Gamble, Microsoft, AT&T, Ford, General Eletric\n",
        "* Dados: \n",
        " * 'Adj close' (fechamento ajustado)\n",
        " "
      ]
    },
    {
      "cell_type": "code",
      "metadata": {
        "id": "PsVBgvFgoMOl",
        "colab_type": "code",
        "colab": {}
      },
      "source": [
        "tickers = ['PG','MSFT','T','F','GE']\n",
        "new_data = pd.DataFrame()\n",
        "for t in tickers:\n",
        "  new_data[t] = wb.DataReader(t, data_source='yahoo', start='1995-1-1')['Adj Close']"
      ],
      "execution_count": 0,
      "outputs": []
    },
    {
      "cell_type": "code",
      "metadata": {
        "id": "JZLze-xJojnH",
        "colab_type": "code",
        "outputId": "d561add0-15e3-40eb-cfd3-55c58c31737f",
        "colab": {
          "base_uri": "https://localhost:8080/",
          "height": 235
        }
      },
      "source": [
        "new_data.tail()"
      ],
      "execution_count": 0,
      "outputs": [
        {
          "output_type": "execute_result",
          "data": {
            "text/html": [
              "<div>\n",
              "<style scoped>\n",
              "    .dataframe tbody tr th:only-of-type {\n",
              "        vertical-align: middle;\n",
              "    }\n",
              "\n",
              "    .dataframe tbody tr th {\n",
              "        vertical-align: top;\n",
              "    }\n",
              "\n",
              "    .dataframe thead th {\n",
              "        text-align: right;\n",
              "    }\n",
              "</style>\n",
              "<table border=\"1\" class=\"dataframe\">\n",
              "  <thead>\n",
              "    <tr style=\"text-align: right;\">\n",
              "      <th></th>\n",
              "      <th>PG</th>\n",
              "      <th>MSFT</th>\n",
              "      <th>T</th>\n",
              "      <th>F</th>\n",
              "      <th>GE</th>\n",
              "    </tr>\n",
              "    <tr>\n",
              "      <th>Date</th>\n",
              "      <th></th>\n",
              "      <th></th>\n",
              "      <th></th>\n",
              "      <th></th>\n",
              "      <th></th>\n",
              "    </tr>\n",
              "  </thead>\n",
              "  <tbody>\n",
              "    <tr>\n",
              "      <th>2019-08-05</th>\n",
              "      <td>113.080002</td>\n",
              "      <td>132.210007</td>\n",
              "      <td>33.490002</td>\n",
              "      <td>9.23</td>\n",
              "      <td>9.66</td>\n",
              "    </tr>\n",
              "    <tr>\n",
              "      <th>2019-08-06</th>\n",
              "      <td>114.279999</td>\n",
              "      <td>134.690002</td>\n",
              "      <td>33.959999</td>\n",
              "      <td>9.48</td>\n",
              "      <td>9.57</td>\n",
              "    </tr>\n",
              "    <tr>\n",
              "      <th>2019-08-07</th>\n",
              "      <td>115.519997</td>\n",
              "      <td>135.279999</td>\n",
              "      <td>34.060001</td>\n",
              "      <td>9.53</td>\n",
              "      <td>9.46</td>\n",
              "    </tr>\n",
              "    <tr>\n",
              "      <th>2019-08-08</th>\n",
              "      <td>117.440002</td>\n",
              "      <td>138.889999</td>\n",
              "      <td>34.540001</td>\n",
              "      <td>9.56</td>\n",
              "      <td>9.49</td>\n",
              "    </tr>\n",
              "    <tr>\n",
              "      <th>2019-08-09</th>\n",
              "      <td>116.779999</td>\n",
              "      <td>137.710007</td>\n",
              "      <td>34.540001</td>\n",
              "      <td>9.45</td>\n",
              "      <td>9.15</td>\n",
              "    </tr>\n",
              "  </tbody>\n",
              "</table>\n",
              "</div>"
            ],
            "text/plain": [
              "                    PG        MSFT          T     F    GE\n",
              "Date                                                     \n",
              "2019-08-05  113.080002  132.210007  33.490002  9.23  9.66\n",
              "2019-08-06  114.279999  134.690002  33.959999  9.48  9.57\n",
              "2019-08-07  115.519997  135.279999  34.060001  9.53  9.46\n",
              "2019-08-08  117.440002  138.889999  34.540001  9.56  9.49\n",
              "2019-08-09  116.779999  137.710007  34.540001  9.45  9.15"
            ]
          },
          "metadata": {
            "tags": []
          },
          "execution_count": 16
        }
      ]
    },
    {
      "cell_type": "markdown",
      "metadata": {
        "id": "dsfzaPKXtA-R",
        "colab_type": "text"
      },
      "source": [
        "# Importando dados csv"
      ]
    },
    {
      "cell_type": "code",
      "metadata": {
        "id": "LJEdKqG4tD4F",
        "colab_type": "code",
        "colab": {}
      },
      "source": [
        "!pip install quandl"
      ],
      "execution_count": 0,
      "outputs": []
    },
    {
      "cell_type": "code",
      "metadata": {
        "id": "FWz5590utM5z",
        "colab_type": "code",
        "colab": {}
      },
      "source": [
        "import quandl"
      ],
      "execution_count": 0,
      "outputs": []
    },
    {
      "cell_type": "code",
      "metadata": {
        "id": "xBcxbUB3tbpY",
        "colab_type": "code",
        "colab": {}
      },
      "source": [
        "mydata_01 = quandl.get(\"FRED/GDP\") #PIB"
      ],
      "execution_count": 0,
      "outputs": []
    },
    {
      "cell_type": "code",
      "metadata": {
        "id": "5n5rJkNHthwJ",
        "colab_type": "code",
        "colab": {}
      },
      "source": [
        "mydata_01.head()"
      ],
      "execution_count": 0,
      "outputs": []
    },
    {
      "cell_type": "code",
      "metadata": {
        "id": "_gENZy0TtowQ",
        "colab_type": "code",
        "colab": {}
      },
      "source": [
        "import pandas as pd"
      ],
      "execution_count": 0,
      "outputs": []
    },
    {
      "cell_type": "code",
      "metadata": {
        "id": "IIE1cUHctrFg",
        "colab_type": "code",
        "colab": {}
      },
      "source": [
        "!mkdir data"
      ],
      "execution_count": 0,
      "outputs": []
    },
    {
      "cell_type": "code",
      "metadata": {
        "id": "OiJEDhMGtyJ4",
        "colab_type": "code",
        "outputId": "82461e52-2d94-4797-885d-036d98a10ce6",
        "colab": {
          "base_uri": "https://localhost:8080/",
          "height": 34
        }
      },
      "source": [
        "!ls"
      ],
      "execution_count": 0,
      "outputs": [
        {
          "output_type": "stream",
          "text": [
            "sample_data\n"
          ],
          "name": "stdout"
        }
      ]
    },
    {
      "cell_type": "code",
      "metadata": {
        "id": "9N1CMEZkt5-Q",
        "colab_type": "code",
        "colab": {}
      },
      "source": [
        "mydata_01.to_csv('/content/drive/Unifacs/Semestre4/Laboratorio/example_01.csv')"
      ],
      "execution_count": 0,
      "outputs": []
    },
    {
      "cell_type": "code",
      "metadata": {
        "id": "kM3ng7SJxAAm",
        "colab_type": "code",
        "colab": {}
      },
      "source": [
        "mydata_01.to_excel('/content/drive/Unifacs/Semestre4/Laboratorio/example_02.xlsx')"
      ],
      "execution_count": 0,
      "outputs": []
    },
    {
      "cell_type": "code",
      "metadata": {
        "id": "tgjwhuVYuDyI",
        "colab_type": "code",
        "colab": {}
      },
      "source": [
        "mydata_02 = pd.read_csv('/content/drive/Unifacs/Semestre4/Laboratorio/example_01.csv', index_col='Date')"
      ],
      "execution_count": 0,
      "outputs": []
    },
    {
      "cell_type": "code",
      "metadata": {
        "id": "IdL--ZIVAdQr",
        "colab_type": "code",
        "outputId": "aeec9415-4e34-4e76-e3db-17fb1e961853",
        "colab": {
          "base_uri": "https://localhost:8080/",
          "height": 1000
        }
      },
      "source": [
        "mydata_03.set_index('Date') #seta visualmente"
      ],
      "execution_count": 0,
      "outputs": [
        {
          "output_type": "execute_result",
          "data": {
            "text/html": [
              "<div>\n",
              "<style scoped>\n",
              "    .dataframe tbody tr th:only-of-type {\n",
              "        vertical-align: middle;\n",
              "    }\n",
              "\n",
              "    .dataframe tbody tr th {\n",
              "        vertical-align: top;\n",
              "    }\n",
              "\n",
              "    .dataframe thead th {\n",
              "        text-align: right;\n",
              "    }\n",
              "</style>\n",
              "<table border=\"1\" class=\"dataframe\">\n",
              "  <thead>\n",
              "    <tr style=\"text-align: right;\">\n",
              "      <th></th>\n",
              "      <th>Value</th>\n",
              "    </tr>\n",
              "    <tr>\n",
              "      <th>Date</th>\n",
              "      <th></th>\n",
              "    </tr>\n",
              "  </thead>\n",
              "  <tbody>\n",
              "    <tr>\n",
              "      <th>1947-01-01</th>\n",
              "      <td>243.164</td>\n",
              "    </tr>\n",
              "    <tr>\n",
              "      <th>1947-04-01</th>\n",
              "      <td>245.968</td>\n",
              "    </tr>\n",
              "    <tr>\n",
              "      <th>1947-07-01</th>\n",
              "      <td>249.585</td>\n",
              "    </tr>\n",
              "    <tr>\n",
              "      <th>1947-10-01</th>\n",
              "      <td>259.745</td>\n",
              "    </tr>\n",
              "    <tr>\n",
              "      <th>1948-01-01</th>\n",
              "      <td>265.742</td>\n",
              "    </tr>\n",
              "    <tr>\n",
              "      <th>1948-04-01</th>\n",
              "      <td>272.567</td>\n",
              "    </tr>\n",
              "    <tr>\n",
              "      <th>1948-07-01</th>\n",
              "      <td>279.196</td>\n",
              "    </tr>\n",
              "    <tr>\n",
              "      <th>1948-10-01</th>\n",
              "      <td>280.366</td>\n",
              "    </tr>\n",
              "    <tr>\n",
              "      <th>1949-01-01</th>\n",
              "      <td>275.034</td>\n",
              "    </tr>\n",
              "    <tr>\n",
              "      <th>1949-04-01</th>\n",
              "      <td>271.351</td>\n",
              "    </tr>\n",
              "    <tr>\n",
              "      <th>1949-07-01</th>\n",
              "      <td>272.889</td>\n",
              "    </tr>\n",
              "    <tr>\n",
              "      <th>1949-10-01</th>\n",
              "      <td>270.627</td>\n",
              "    </tr>\n",
              "    <tr>\n",
              "      <th>1950-01-01</th>\n",
              "      <td>280.828</td>\n",
              "    </tr>\n",
              "    <tr>\n",
              "      <th>1950-04-01</th>\n",
              "      <td>290.383</td>\n",
              "    </tr>\n",
              "    <tr>\n",
              "      <th>1950-07-01</th>\n",
              "      <td>308.153</td>\n",
              "    </tr>\n",
              "    <tr>\n",
              "      <th>1950-10-01</th>\n",
              "      <td>319.945</td>\n",
              "    </tr>\n",
              "    <tr>\n",
              "      <th>1951-01-01</th>\n",
              "      <td>336.000</td>\n",
              "    </tr>\n",
              "    <tr>\n",
              "      <th>1951-04-01</th>\n",
              "      <td>344.090</td>\n",
              "    </tr>\n",
              "    <tr>\n",
              "      <th>1951-07-01</th>\n",
              "      <td>351.385</td>\n",
              "    </tr>\n",
              "    <tr>\n",
              "      <th>1951-10-01</th>\n",
              "      <td>356.178</td>\n",
              "    </tr>\n",
              "    <tr>\n",
              "      <th>1952-01-01</th>\n",
              "      <td>359.820</td>\n",
              "    </tr>\n",
              "    <tr>\n",
              "      <th>1952-04-01</th>\n",
              "      <td>361.030</td>\n",
              "    </tr>\n",
              "    <tr>\n",
              "      <th>1952-07-01</th>\n",
              "      <td>367.701</td>\n",
              "    </tr>\n",
              "    <tr>\n",
              "      <th>1952-10-01</th>\n",
              "      <td>380.812</td>\n",
              "    </tr>\n",
              "    <tr>\n",
              "      <th>1953-01-01</th>\n",
              "      <td>387.980</td>\n",
              "    </tr>\n",
              "    <tr>\n",
              "      <th>1953-04-01</th>\n",
              "      <td>391.749</td>\n",
              "    </tr>\n",
              "    <tr>\n",
              "      <th>1953-07-01</th>\n",
              "      <td>391.171</td>\n",
              "    </tr>\n",
              "    <tr>\n",
              "      <th>1953-10-01</th>\n",
              "      <td>385.970</td>\n",
              "    </tr>\n",
              "    <tr>\n",
              "      <th>1954-01-01</th>\n",
              "      <td>385.345</td>\n",
              "    </tr>\n",
              "    <tr>\n",
              "      <th>1954-04-01</th>\n",
              "      <td>386.121</td>\n",
              "    </tr>\n",
              "    <tr>\n",
              "      <th>...</th>\n",
              "      <td>...</td>\n",
              "    </tr>\n",
              "    <tr>\n",
              "      <th>2012-01-01</th>\n",
              "      <td>16019.758</td>\n",
              "    </tr>\n",
              "    <tr>\n",
              "      <th>2012-04-01</th>\n",
              "      <td>16152.257</td>\n",
              "    </tr>\n",
              "    <tr>\n",
              "      <th>2012-07-01</th>\n",
              "      <td>16257.151</td>\n",
              "    </tr>\n",
              "    <tr>\n",
              "      <th>2012-10-01</th>\n",
              "      <td>16358.863</td>\n",
              "    </tr>\n",
              "    <tr>\n",
              "      <th>2013-01-01</th>\n",
              "      <td>16569.591</td>\n",
              "    </tr>\n",
              "    <tr>\n",
              "      <th>2013-04-01</th>\n",
              "      <td>16637.926</td>\n",
              "    </tr>\n",
              "    <tr>\n",
              "      <th>2013-07-01</th>\n",
              "      <td>16848.748</td>\n",
              "    </tr>\n",
              "    <tr>\n",
              "      <th>2013-10-01</th>\n",
              "      <td>17083.137</td>\n",
              "    </tr>\n",
              "    <tr>\n",
              "      <th>2014-01-01</th>\n",
              "      <td>17104.555</td>\n",
              "    </tr>\n",
              "    <tr>\n",
              "      <th>2014-04-01</th>\n",
              "      <td>17432.909</td>\n",
              "    </tr>\n",
              "    <tr>\n",
              "      <th>2014-07-01</th>\n",
              "      <td>17721.657</td>\n",
              "    </tr>\n",
              "    <tr>\n",
              "      <th>2014-10-01</th>\n",
              "      <td>17849.912</td>\n",
              "    </tr>\n",
              "    <tr>\n",
              "      <th>2015-01-01</th>\n",
              "      <td>17984.178</td>\n",
              "    </tr>\n",
              "    <tr>\n",
              "      <th>2015-04-01</th>\n",
              "      <td>18219.405</td>\n",
              "    </tr>\n",
              "    <tr>\n",
              "      <th>2015-07-01</th>\n",
              "      <td>18344.713</td>\n",
              "    </tr>\n",
              "    <tr>\n",
              "      <th>2015-10-01</th>\n",
              "      <td>18350.825</td>\n",
              "    </tr>\n",
              "    <tr>\n",
              "      <th>2016-01-01</th>\n",
              "      <td>18424.283</td>\n",
              "    </tr>\n",
              "    <tr>\n",
              "      <th>2016-04-01</th>\n",
              "      <td>18637.253</td>\n",
              "    </tr>\n",
              "    <tr>\n",
              "      <th>2016-07-01</th>\n",
              "      <td>18806.743</td>\n",
              "    </tr>\n",
              "    <tr>\n",
              "      <th>2016-10-01</th>\n",
              "      <td>18991.883</td>\n",
              "    </tr>\n",
              "    <tr>\n",
              "      <th>2017-01-01</th>\n",
              "      <td>19190.431</td>\n",
              "    </tr>\n",
              "    <tr>\n",
              "      <th>2017-04-01</th>\n",
              "      <td>19356.649</td>\n",
              "    </tr>\n",
              "    <tr>\n",
              "      <th>2017-07-01</th>\n",
              "      <td>19611.704</td>\n",
              "    </tr>\n",
              "    <tr>\n",
              "      <th>2017-10-01</th>\n",
              "      <td>19918.910</td>\n",
              "    </tr>\n",
              "    <tr>\n",
              "      <th>2018-01-01</th>\n",
              "      <td>20163.159</td>\n",
              "    </tr>\n",
              "    <tr>\n",
              "      <th>2018-04-01</th>\n",
              "      <td>20510.177</td>\n",
              "    </tr>\n",
              "    <tr>\n",
              "      <th>2018-07-01</th>\n",
              "      <td>20749.752</td>\n",
              "    </tr>\n",
              "    <tr>\n",
              "      <th>2018-10-01</th>\n",
              "      <td>20897.804</td>\n",
              "    </tr>\n",
              "    <tr>\n",
              "      <th>2019-01-01</th>\n",
              "      <td>21098.827</td>\n",
              "    </tr>\n",
              "    <tr>\n",
              "      <th>2019-04-01</th>\n",
              "      <td>21337.898</td>\n",
              "    </tr>\n",
              "  </tbody>\n",
              "</table>\n",
              "<p>290 rows × 1 columns</p>\n",
              "</div>"
            ],
            "text/plain": [
              "                Value\n",
              "Date                 \n",
              "1947-01-01    243.164\n",
              "1947-04-01    245.968\n",
              "1947-07-01    249.585\n",
              "1947-10-01    259.745\n",
              "1948-01-01    265.742\n",
              "1948-04-01    272.567\n",
              "1948-07-01    279.196\n",
              "1948-10-01    280.366\n",
              "1949-01-01    275.034\n",
              "1949-04-01    271.351\n",
              "1949-07-01    272.889\n",
              "1949-10-01    270.627\n",
              "1950-01-01    280.828\n",
              "1950-04-01    290.383\n",
              "1950-07-01    308.153\n",
              "1950-10-01    319.945\n",
              "1951-01-01    336.000\n",
              "1951-04-01    344.090\n",
              "1951-07-01    351.385\n",
              "1951-10-01    356.178\n",
              "1952-01-01    359.820\n",
              "1952-04-01    361.030\n",
              "1952-07-01    367.701\n",
              "1952-10-01    380.812\n",
              "1953-01-01    387.980\n",
              "1953-04-01    391.749\n",
              "1953-07-01    391.171\n",
              "1953-10-01    385.970\n",
              "1954-01-01    385.345\n",
              "1954-04-01    386.121\n",
              "...               ...\n",
              "2012-01-01  16019.758\n",
              "2012-04-01  16152.257\n",
              "2012-07-01  16257.151\n",
              "2012-10-01  16358.863\n",
              "2013-01-01  16569.591\n",
              "2013-04-01  16637.926\n",
              "2013-07-01  16848.748\n",
              "2013-10-01  17083.137\n",
              "2014-01-01  17104.555\n",
              "2014-04-01  17432.909\n",
              "2014-07-01  17721.657\n",
              "2014-10-01  17849.912\n",
              "2015-01-01  17984.178\n",
              "2015-04-01  18219.405\n",
              "2015-07-01  18344.713\n",
              "2015-10-01  18350.825\n",
              "2016-01-01  18424.283\n",
              "2016-04-01  18637.253\n",
              "2016-07-01  18806.743\n",
              "2016-10-01  18991.883\n",
              "2017-01-01  19190.431\n",
              "2017-04-01  19356.649\n",
              "2017-07-01  19611.704\n",
              "2017-10-01  19918.910\n",
              "2018-01-01  20163.159\n",
              "2018-04-01  20510.177\n",
              "2018-07-01  20749.752\n",
              "2018-10-01  20897.804\n",
              "2019-01-01  21098.827\n",
              "2019-04-01  21337.898\n",
              "\n",
              "[290 rows x 1 columns]"
            ]
          },
          "metadata": {
            "tags": []
          },
          "execution_count": 26
        }
      ]
    },
    {
      "cell_type": "code",
      "metadata": {
        "id": "g4eFLjLHxJ7w",
        "colab_type": "code",
        "colab": {}
      },
      "source": [
        "mydata_03 = pd.read_excel('/content/drive/Unifacs/Semestre4/Laboratorio/example_02.xlsx')"
      ],
      "execution_count": 0,
      "outputs": []
    },
    {
      "cell_type": "code",
      "metadata": {
        "id": "HhBMZ6p4uJYI",
        "colab_type": "code",
        "outputId": "c879772c-648b-4653-ecd4-9403cce41e30",
        "colab": {
          "base_uri": "https://localhost:8080/",
          "height": 235
        }
      },
      "source": [
        "mydata_02.head()"
      ],
      "execution_count": 0,
      "outputs": [
        {
          "output_type": "execute_result",
          "data": {
            "text/html": [
              "<div>\n",
              "<style scoped>\n",
              "    .dataframe tbody tr th:only-of-type {\n",
              "        vertical-align: middle;\n",
              "    }\n",
              "\n",
              "    .dataframe tbody tr th {\n",
              "        vertical-align: top;\n",
              "    }\n",
              "\n",
              "    .dataframe thead th {\n",
              "        text-align: right;\n",
              "    }\n",
              "</style>\n",
              "<table border=\"1\" class=\"dataframe\">\n",
              "  <thead>\n",
              "    <tr style=\"text-align: right;\">\n",
              "      <th></th>\n",
              "      <th>Value</th>\n",
              "    </tr>\n",
              "    <tr>\n",
              "      <th>Date</th>\n",
              "      <th></th>\n",
              "    </tr>\n",
              "  </thead>\n",
              "  <tbody>\n",
              "    <tr>\n",
              "      <th>1947-01-01</th>\n",
              "      <td>243.164</td>\n",
              "    </tr>\n",
              "    <tr>\n",
              "      <th>1947-04-01</th>\n",
              "      <td>245.968</td>\n",
              "    </tr>\n",
              "    <tr>\n",
              "      <th>1947-07-01</th>\n",
              "      <td>249.585</td>\n",
              "    </tr>\n",
              "    <tr>\n",
              "      <th>1947-10-01</th>\n",
              "      <td>259.745</td>\n",
              "    </tr>\n",
              "    <tr>\n",
              "      <th>1948-01-01</th>\n",
              "      <td>265.742</td>\n",
              "    </tr>\n",
              "  </tbody>\n",
              "</table>\n",
              "</div>"
            ],
            "text/plain": [
              "              Value\n",
              "Date               \n",
              "1947-01-01  243.164\n",
              "1947-04-01  245.968\n",
              "1947-07-01  249.585\n",
              "1947-10-01  259.745\n",
              "1948-01-01  265.742"
            ]
          },
          "metadata": {
            "tags": []
          },
          "execution_count": 22
        }
      ]
    },
    {
      "cell_type": "code",
      "metadata": {
        "id": "d213BsfAuOSP",
        "colab_type": "code",
        "outputId": "67d6248b-998d-4b86-be37-4c946ca9bf36",
        "colab": {
          "base_uri": "https://localhost:8080/",
          "height": 235
        }
      },
      "source": [
        "mydata_03.tail()"
      ],
      "execution_count": 0,
      "outputs": [
        {
          "output_type": "execute_result",
          "data": {
            "text/html": [
              "<div>\n",
              "<style scoped>\n",
              "    .dataframe tbody tr th:only-of-type {\n",
              "        vertical-align: middle;\n",
              "    }\n",
              "\n",
              "    .dataframe tbody tr th {\n",
              "        vertical-align: top;\n",
              "    }\n",
              "\n",
              "    .dataframe thead th {\n",
              "        text-align: right;\n",
              "    }\n",
              "</style>\n",
              "<table border=\"1\" class=\"dataframe\">\n",
              "  <thead>\n",
              "    <tr style=\"text-align: right;\">\n",
              "      <th></th>\n",
              "      <th>Value</th>\n",
              "    </tr>\n",
              "    <tr>\n",
              "      <th>Date</th>\n",
              "      <th></th>\n",
              "    </tr>\n",
              "  </thead>\n",
              "  <tbody>\n",
              "    <tr>\n",
              "      <th>2018-04-01</th>\n",
              "      <td>20510.177</td>\n",
              "    </tr>\n",
              "    <tr>\n",
              "      <th>2018-07-01</th>\n",
              "      <td>20749.752</td>\n",
              "    </tr>\n",
              "    <tr>\n",
              "      <th>2018-10-01</th>\n",
              "      <td>20897.804</td>\n",
              "    </tr>\n",
              "    <tr>\n",
              "      <th>2019-01-01</th>\n",
              "      <td>21098.827</td>\n",
              "    </tr>\n",
              "    <tr>\n",
              "      <th>2019-04-01</th>\n",
              "      <td>21337.898</td>\n",
              "    </tr>\n",
              "  </tbody>\n",
              "</table>\n",
              "</div>"
            ],
            "text/plain": [
              "                Value\n",
              "Date                 \n",
              "2018-04-01  20510.177\n",
              "2018-07-01  20749.752\n",
              "2018-10-01  20897.804\n",
              "2019-01-01  21098.827\n",
              "2019-04-01  21337.898"
            ]
          },
          "metadata": {
            "tags": []
          },
          "execution_count": 23
        }
      ]
    },
    {
      "cell_type": "markdown",
      "metadata": {
        "id": "Heb7wlzJujHY",
        "colab_type": "text"
      },
      "source": [
        "# Upload local"
      ]
    },
    {
      "cell_type": "code",
      "metadata": {
        "id": "ySd9M2qRum4U",
        "colab_type": "code",
        "outputId": "6b13ff3e-5725-4d4b-c330-1cf77fc9b722",
        "colab": {
          "resources": {
            "http://localhost:8080/nbextensions/google.colab/files.js": {
              "data": "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",
              "ok": true,
              "headers": [
                [
                  "content-type",
                  "application/javascript"
                ]
              ],
              "status": 200,
              "status_text": ""
            }
          },
          "base_uri": "https://localhost:8080/",
          "height": 40
        }
      },
      "source": [
        "from google.colab import files\n",
        "uploaded = files.upload()"
      ],
      "execution_count": 0,
      "outputs": [
        {
          "output_type": "display_data",
          "data": {
            "text/html": [
              "\n",
              "     <input type=\"file\" id=\"files-ec59f022-ce83-47a1-878e-f501a7278339\" name=\"files[]\" multiple disabled />\n",
              "     <output id=\"result-ec59f022-ce83-47a1-878e-f501a7278339\">\n",
              "      Upload widget is only available when the cell has been executed in the\n",
              "      current browser session. Please rerun this cell to enable.\n",
              "      </output>\n",
              "      <script src=\"/nbextensions/google.colab/files.js\"></script> "
            ],
            "text/plain": [
              "<IPython.core.display.HTML object>"
            ]
          },
          "metadata": {
            "tags": []
          }
        }
      ]
    },
    {
      "cell_type": "markdown",
      "metadata": {
        "id": "R2ZnTOBkvTrJ",
        "colab_type": "text"
      },
      "source": [
        "# Montando Google Drive\n",
        "* Executar o seguinte.\n"
      ]
    },
    {
      "cell_type": "code",
      "metadata": {
        "id": "xm4669B2vhAF",
        "colab_type": "code",
        "outputId": "686a39fc-d514-4643-cea7-90e5d25b8c99",
        "colab": {
          "base_uri": "https://localhost:8080/",
          "height": 258
        }
      },
      "source": [
        "!apt-get install -y -qq software-properties-common python-software-properties module-init- tools\n",
        "!add-apt-repository -y ppa:alessandro-strada/ppa 2>&1 > /dev/null\n",
        "!apt-get update -qq 2>&1 > /dev/null\n",
        "!apt-get -y install -qq google-drive-ocamlfuse fuse\n",
        "from google.colab import auth\n",
        "auth.authenticate_user()\n",
        "from oauth2client.client import GoogleCredentials\n",
        "creds = GoogleCredentials.get_application_default()\n",
        "import getpass\n",
        "!google-drive-ocamlfuse -headless -id={creds.client_id} -secret={creds.client_secret} < /dev/null 2>&1 | grep URL\n",
        "vcode = getpass.getpass()\n",
        "!echo {vcode} | google-drive-ocamlfuse -headless -id={creds.client_id} -secret={creds.client_secret}"
      ],
      "execution_count": 27,
      "outputs": [
        {
          "output_type": "stream",
          "text": [
            "E: Package 'python-software-properties' has no installation candidate\n",
            "E: Unable to locate package module-init\n",
            "E: Unable to locate package tools\n",
            "Selecting previously unselected package google-drive-ocamlfuse.\n",
            "(Reading database ... 131289 files and directories currently installed.)\n",
            "Preparing to unpack .../google-drive-ocamlfuse_0.7.6-0ubuntu1~ubuntu18.04.1_amd64.deb ...\n",
            "Unpacking google-drive-ocamlfuse (0.7.6-0ubuntu1~ubuntu18.04.1) ...\n",
            "Setting up google-drive-ocamlfuse (0.7.6-0ubuntu1~ubuntu18.04.1) ...\n",
            "Processing triggers for man-db (2.8.3-2ubuntu0.1) ...\n",
            "Please, open the following URL in a web browser: https://accounts.google.com/o/oauth2/auth?client_id=32555940559.apps.googleusercontent.com&redirect_uri=urn%3Aietf%3Awg%3Aoauth%3A2.0%3Aoob&scope=https%3A%2F%2Fwww.googleapis.com%2Fauth%2Fdrive&response_type=code&access_type=offline&approval_prompt=force\n",
            "··········\n",
            "Please, open the following URL in a web browser: https://accounts.google.com/o/oauth2/auth?client_id=32555940559.apps.googleusercontent.com&redirect_uri=urn%3Aietf%3Awg%3Aoauth%3A2.0%3Aoob&scope=https%3A%2F%2Fwww.googleapis.com%2Fauth%2Fdrive&response_type=code&access_type=offline&approval_prompt=force\n",
            "Please enter the verification code: Access token retrieved correctly.\n"
          ],
          "name": "stdout"
        }
      ]
    },
    {
      "cell_type": "markdown",
      "metadata": {
        "id": "hvHwCb-RvpFp",
        "colab_type": "text"
      },
      "source": [
        "* Clique no link e entre com a chave da api.\n"
      ]
    },
    {
      "cell_type": "code",
      "metadata": {
        "id": "1hN1UZzKvr2N",
        "colab_type": "code",
        "colab": {}
      },
      "source": [
        " !mkdir -p drive\n",
        " !google-drive-ocamlfuse drive"
      ],
      "execution_count": 0,
      "outputs": []
    },
    {
      "cell_type": "markdown",
      "metadata": {
        "id": "Y4pskZcrvvC2",
        "colab_type": "text"
      },
      "source": [
        "\n",
        "* Your drive is now mounted. You can use any files and folders in your drive by using the path as follows\n",
        "* !ls /content/drive/[folder name]"
      ]
    },
    {
      "cell_type": "code",
      "metadata": {
        "id": "8_rr1CljwI2b",
        "colab_type": "code",
        "outputId": "6ad34b57-955a-49d8-fe2f-b441d3055213",
        "colab": {
          "base_uri": "https://localhost:8080/",
          "height": 51
        }
      },
      "source": [
        "!ls /content/drive/Unifacs/Semestre4/Laboratorio"
      ],
      "execution_count": 29,
      "outputs": [
        {
          "output_type": "stream",
          "text": [
            "example_01.csv\t    example_02.xls   Housing.xlsx\n",
            "example_01.desktop  example_02.xlsx\n"
          ],
          "name": "stdout"
        }
      ]
    },
    {
      "cell_type": "markdown",
      "metadata": {
        "id": "GzA8K5ZkgpMx",
        "colab_type": "text"
      },
      "source": [
        "# Taxa de retorno\n",
        "\n",
        " * taxa simples de retorno: Mais utilizado para diversos ativos ao mesmo tempo =\n",
        "  * (preço final + proventos - preço inicial ) / preço inicial\n",
        " * taxa de retorno logarítmica = Mais utilizado para um ativo ao longo do tempo =\n",
        "  * log (preço final / preço inicial) = log preço final - log preço inicial\n",
        "  \n",
        " * retorno anual\n",
        "  * retorno = [(retorno diario + 1)^365] *100"
      ]
    },
    {
      "cell_type": "code",
      "metadata": {
        "id": "h00IZkYYidNC",
        "colab_type": "code",
        "colab": {}
      },
      "source": [
        "import numpy as np\n",
        "from pandas_datareader import data as wb\n",
        "import matplotlib.pyplot as plt"
      ],
      "execution_count": 0,
      "outputs": []
    },
    {
      "cell_type": "code",
      "metadata": {
        "id": "iAMrP-Yfinze",
        "colab_type": "code",
        "colab": {}
      },
      "source": [
        "PG = wb.DataReader('PG', data_source='yahoo', start='1995-1-1')"
      ],
      "execution_count": 0,
      "outputs": []
    },
    {
      "cell_type": "code",
      "metadata": {
        "id": "vX3whc-0ivCZ",
        "colab_type": "code",
        "outputId": "ff645c98-d4b1-4c1e-b27d-d5f655980079",
        "colab": {
          "base_uri": "https://localhost:8080/",
          "height": 235
        }
      },
      "source": [
        "PG.head()"
      ],
      "execution_count": 0,
      "outputs": [
        {
          "output_type": "execute_result",
          "data": {
            "text/html": [
              "<div>\n",
              "<style scoped>\n",
              "    .dataframe tbody tr th:only-of-type {\n",
              "        vertical-align: middle;\n",
              "    }\n",
              "\n",
              "    .dataframe tbody tr th {\n",
              "        vertical-align: top;\n",
              "    }\n",
              "\n",
              "    .dataframe thead th {\n",
              "        text-align: right;\n",
              "    }\n",
              "</style>\n",
              "<table border=\"1\" class=\"dataframe\">\n",
              "  <thead>\n",
              "    <tr style=\"text-align: right;\">\n",
              "      <th></th>\n",
              "      <th>High</th>\n",
              "      <th>Low</th>\n",
              "      <th>Open</th>\n",
              "      <th>Close</th>\n",
              "      <th>Volume</th>\n",
              "      <th>Adj Close</th>\n",
              "    </tr>\n",
              "    <tr>\n",
              "      <th>Date</th>\n",
              "      <th></th>\n",
              "      <th></th>\n",
              "      <th></th>\n",
              "      <th></th>\n",
              "      <th></th>\n",
              "      <th></th>\n",
              "    </tr>\n",
              "  </thead>\n",
              "  <tbody>\n",
              "    <tr>\n",
              "      <th>1995-01-03</th>\n",
              "      <td>15.62500</td>\n",
              "      <td>15.43750</td>\n",
              "      <td>15.46875</td>\n",
              "      <td>15.59375</td>\n",
              "      <td>3318400.0</td>\n",
              "      <td>6.441071</td>\n",
              "    </tr>\n",
              "    <tr>\n",
              "      <th>1995-01-04</th>\n",
              "      <td>15.65625</td>\n",
              "      <td>15.31250</td>\n",
              "      <td>15.53125</td>\n",
              "      <td>15.46875</td>\n",
              "      <td>2218800.0</td>\n",
              "      <td>6.389442</td>\n",
              "    </tr>\n",
              "    <tr>\n",
              "      <th>1995-01-05</th>\n",
              "      <td>15.43750</td>\n",
              "      <td>15.21875</td>\n",
              "      <td>15.37500</td>\n",
              "      <td>15.25000</td>\n",
              "      <td>2319600.0</td>\n",
              "      <td>6.299082</td>\n",
              "    </tr>\n",
              "    <tr>\n",
              "      <th>1995-01-06</th>\n",
              "      <td>15.40625</td>\n",
              "      <td>15.15625</td>\n",
              "      <td>15.15625</td>\n",
              "      <td>15.28125</td>\n",
              "      <td>3438000.0</td>\n",
              "      <td>6.311993</td>\n",
              "    </tr>\n",
              "    <tr>\n",
              "      <th>1995-01-09</th>\n",
              "      <td>15.40625</td>\n",
              "      <td>15.18750</td>\n",
              "      <td>15.34375</td>\n",
              "      <td>15.21875</td>\n",
              "      <td>1795200.0</td>\n",
              "      <td>6.286175</td>\n",
              "    </tr>\n",
              "  </tbody>\n",
              "</table>\n",
              "</div>"
            ],
            "text/plain": [
              "                High       Low      Open     Close     Volume  Adj Close\n",
              "Date                                                                    \n",
              "1995-01-03  15.62500  15.43750  15.46875  15.59375  3318400.0   6.441071\n",
              "1995-01-04  15.65625  15.31250  15.53125  15.46875  2218800.0   6.389442\n",
              "1995-01-05  15.43750  15.21875  15.37500  15.25000  2319600.0   6.299082\n",
              "1995-01-06  15.40625  15.15625  15.15625  15.28125  3438000.0   6.311993\n",
              "1995-01-09  15.40625  15.18750  15.34375  15.21875  1795200.0   6.286175"
            ]
          },
          "metadata": {
            "tags": []
          },
          "execution_count": 7
        }
      ]
    },
    {
      "cell_type": "code",
      "metadata": {
        "id": "4gFxRNB5i0_i",
        "colab_type": "code",
        "outputId": "582dd3be-a0a8-431d-cf65-a12bb5b2b1c0",
        "colab": {
          "base_uri": "https://localhost:8080/",
          "height": 1000
        }
      },
      "source": [
        "#Preço de fechamento ajustado possui dividendos, desdobramentos etc\n",
        "PG['simple_return'] = (PG['Adj Close'] / PG['Adj Close'].shift(1)) - 1\n",
        "print (PG['simple_return'])"
      ],
      "execution_count": 0,
      "outputs": [
        {
          "output_type": "stream",
          "text": [
            "Date\n",
            "1995-01-03         NaN\n",
            "1995-01-04   -0.008016\n",
            "1995-01-05   -0.014142\n",
            "1995-01-06    0.002050\n",
            "1995-01-09   -0.004090\n",
            "1995-01-10    0.012321\n",
            "1995-01-11   -0.002029\n",
            "1995-01-12    0.010163\n",
            "1995-01-13    0.029230\n",
            "1995-01-16    0.008001\n",
            "1995-01-17    0.003968\n",
            "1995-01-18   -0.021739\n",
            "1995-01-19   -0.004041\n",
            "1995-01-20   -0.004057\n",
            "1995-01-23    0.010183\n",
            "1995-01-24   -0.002016\n",
            "1995-01-25    0.014141\n",
            "1995-01-26    0.003985\n",
            "1995-01-27    0.027778\n",
            "1995-01-30    0.015443\n",
            "1995-01-31   -0.009505\n",
            "1995-02-01   -0.019194\n",
            "1995-02-02    0.007828\n",
            "1995-02-03    0.009708\n",
            "1995-02-06    0.023077\n",
            "1995-02-07   -0.001879\n",
            "1995-02-08   -0.011299\n",
            "1995-02-09   -0.001904\n",
            "1995-02-10   -0.001909\n",
            "1995-02-13    0.007649\n",
            "                ...   \n",
            "2019-07-05   -0.008152\n",
            "2019-07-08    0.007954\n",
            "2019-07-09   -0.009996\n",
            "2019-07-10    0.007440\n",
            "2019-07-11    0.005538\n",
            "2019-07-12    0.005333\n",
            "2019-07-15    0.004261\n",
            "2019-07-16    0.003550\n",
            "2019-07-17    0.000431\n",
            "2019-07-18    0.002136\n",
            "2019-07-19   -0.003725\n",
            "2019-07-22    0.002522\n",
            "2019-07-23   -0.012576\n",
            "2019-07-24   -0.010979\n",
            "2019-07-25    0.001510\n",
            "2019-07-26    0.017381\n",
            "2019-07-29    0.011069\n",
            "2019-07-30    0.038017\n",
            "2019-07-31   -0.019683\n",
            "2019-08-01   -0.011098\n",
            "2019-08-02   -0.002484\n",
            "2019-08-05   -0.028856\n",
            "2019-08-06    0.010612\n",
            "2019-08-07    0.010851\n",
            "2019-08-08    0.016621\n",
            "2019-08-09   -0.005620\n",
            "2019-08-12   -0.006422\n",
            "2019-08-13    0.010515\n",
            "2019-08-14   -0.012452\n",
            "2019-08-15    0.008291\n",
            "Name: simple_return, Length: 6199, dtype: float64\n"
          ],
          "name": "stdout"
        }
      ]
    },
    {
      "cell_type": "code",
      "metadata": {
        "id": "adgZq85hi3Nx",
        "colab_type": "code",
        "outputId": "bf17440e-210e-4e15-fc73-19f2cac67385",
        "colab": {
          "base_uri": "https://localhost:8080/",
          "height": 322
        }
      },
      "source": [
        "PG['simple_return'].plot(figsize=(8, 5))\n",
        "plt.show()"
      ],
      "execution_count": 0,
      "outputs": [
        {
          "output_type": "display_data",
          "data": {
            "image/png": "[encoded data removed]",
            "text/plain": [
              "<Figure size 576x360 with 1 Axes>"
            ]
          },
          "metadata": {
            "tags": []
          }
        }
      ]
    },
    {
      "cell_type": "code",
      "metadata": {
        "id": "ivjo2mQ3kAM_",
        "colab_type": "code",
        "outputId": "93633e8d-ead3-48fd-bb11-ac28cdbdfba7",
        "colab": {
          "base_uri": "https://localhost:8080/",
          "height": 34
        }
      },
      "source": [
        "avg_returns_d = PG['simple_return'].mean() #pandas.DataFrame.mean() - calcula a taxa de retorno média diária\n",
        "avg_returns_d"
      ],
      "execution_count": 0,
      "outputs": [
        {
          "output_type": "execute_result",
          "data": {
            "text/plain": [
              "0.0005666383226909089"
            ]
          },
          "metadata": {
            "tags": []
          },
          "execution_count": 10
        }
      ]
    },
    {
      "cell_type": "code",
      "metadata": {
        "id": "4Rd8cCXMkgLe",
        "colab_type": "code",
        "outputId": "e60b05ff-0e78-4cb7-84b0-26018f592c61",
        "colab": {
          "base_uri": "https://localhost:8080/",
          "height": 34
        }
      },
      "source": [
        "avg_returns_a = PG['simple_return'].mean() * 250 #dias úteis em média\n",
        "avg_returns_a"
      ],
      "execution_count": 0,
      "outputs": [
        {
          "output_type": "execute_result",
          "data": {
            "text/plain": [
              "0.14165958067272721"
            ]
          },
          "metadata": {
            "tags": []
          },
          "execution_count": 11
        }
      ]
    },
    {
      "cell_type": "code",
      "metadata": {
        "id": "0EMISqjykYZn",
        "colab_type": "code",
        "outputId": "b88589d2-2264-49ef-ef10-eb74533d51f3",
        "colab": {
          "base_uri": "https://localhost:8080/",
          "height": 34
        }
      },
      "source": [
        "print (str(round(avg_returns_a, 5)* 100) + '%')"
      ],
      "execution_count": 0,
      "outputs": [
        {
          "output_type": "stream",
          "text": [
            "14.166%\n"
          ],
          "name": "stdout"
        }
      ]
    },
    {
      "cell_type": "markdown",
      "metadata": {
        "id": "7BG96czCk9MD",
        "colab_type": "text"
      },
      "source": [
        "# Retorno Logarítmico"
      ]
    },
    {
      "cell_type": "code",
      "metadata": {
        "id": "rxl2Jo7AlA63",
        "colab_type": "code",
        "outputId": "acda0fc6-e65b-41bb-ece9-1afff8e408fb",
        "colab": {
          "base_uri": "https://localhost:8080/",
          "height": 235
        }
      },
      "source": [
        "PG.head()"
      ],
      "execution_count": 0,
      "outputs": [
        {
          "output_type": "execute_result",
          "data": {
            "text/html": [
              "<div>\n",
              "<style scoped>\n",
              "    .dataframe tbody tr th:only-of-type {\n",
              "        vertical-align: middle;\n",
              "    }\n",
              "\n",
              "    .dataframe tbody tr th {\n",
              "        vertical-align: top;\n",
              "    }\n",
              "\n",
              "    .dataframe thead th {\n",
              "        text-align: right;\n",
              "    }\n",
              "</style>\n",
              "<table border=\"1\" class=\"dataframe\">\n",
              "  <thead>\n",
              "    <tr style=\"text-align: right;\">\n",
              "      <th></th>\n",
              "      <th>High</th>\n",
              "      <th>Low</th>\n",
              "      <th>Open</th>\n",
              "      <th>Close</th>\n",
              "      <th>Volume</th>\n",
              "      <th>Adj Close</th>\n",
              "    </tr>\n",
              "    <tr>\n",
              "      <th>Date</th>\n",
              "      <th></th>\n",
              "      <th></th>\n",
              "      <th></th>\n",
              "      <th></th>\n",
              "      <th></th>\n",
              "      <th></th>\n",
              "    </tr>\n",
              "  </thead>\n",
              "  <tbody>\n",
              "    <tr>\n",
              "      <th>1995-01-03</th>\n",
              "      <td>15.62500</td>\n",
              "      <td>15.43750</td>\n",
              "      <td>15.46875</td>\n",
              "      <td>15.59375</td>\n",
              "      <td>3318400.0</td>\n",
              "      <td>6.441071</td>\n",
              "    </tr>\n",
              "    <tr>\n",
              "      <th>1995-01-04</th>\n",
              "      <td>15.65625</td>\n",
              "      <td>15.31250</td>\n",
              "      <td>15.53125</td>\n",
              "      <td>15.46875</td>\n",
              "      <td>2218800.0</td>\n",
              "      <td>6.389442</td>\n",
              "    </tr>\n",
              "    <tr>\n",
              "      <th>1995-01-05</th>\n",
              "      <td>15.43750</td>\n",
              "      <td>15.21875</td>\n",
              "      <td>15.37500</td>\n",
              "      <td>15.25000</td>\n",
              "      <td>2319600.0</td>\n",
              "      <td>6.299082</td>\n",
              "    </tr>\n",
              "    <tr>\n",
              "      <th>1995-01-06</th>\n",
              "      <td>15.40625</td>\n",
              "      <td>15.15625</td>\n",
              "      <td>15.15625</td>\n",
              "      <td>15.28125</td>\n",
              "      <td>3438000.0</td>\n",
              "      <td>6.311993</td>\n",
              "    </tr>\n",
              "    <tr>\n",
              "      <th>1995-01-09</th>\n",
              "      <td>15.40625</td>\n",
              "      <td>15.18750</td>\n",
              "      <td>15.34375</td>\n",
              "      <td>15.21875</td>\n",
              "      <td>1795200.0</td>\n",
              "      <td>6.286175</td>\n",
              "    </tr>\n",
              "  </tbody>\n",
              "</table>\n",
              "</div>"
            ],
            "text/plain": [
              "                High       Low      Open     Close     Volume  Adj Close\n",
              "Date                                                                    \n",
              "1995-01-03  15.62500  15.43750  15.46875  15.59375  3318400.0   6.441071\n",
              "1995-01-04  15.65625  15.31250  15.53125  15.46875  2218800.0   6.389442\n",
              "1995-01-05  15.43750  15.21875  15.37500  15.25000  2319600.0   6.299082\n",
              "1995-01-06  15.40625  15.15625  15.15625  15.28125  3438000.0   6.311993\n",
              "1995-01-09  15.40625  15.18750  15.34375  15.21875  1795200.0   6.286175"
            ]
          },
          "metadata": {
            "tags": []
          },
          "execution_count": 3
        }
      ]
    },
    {
      "cell_type": "code",
      "metadata": {
        "id": "2-b1mmlDm1WE",
        "colab_type": "code",
        "colab": {}
      },
      "source": [
        "PG['log_return'] = np.log(PG['Adj Close'] / PG['Adj Close'].shift(1))\n",
        "print (PG['log_return'])"
      ],
      "execution_count": 0,
      "outputs": []
    },
    {
      "cell_type": "code",
      "metadata": {
        "id": "nLBp5xmfnBvi",
        "colab_type": "code",
        "outputId": "49a9c261-a7a3-48cf-c2ca-ecc2c4b2cc76",
        "colab": {
          "base_uri": "https://localhost:8080/",
          "height": 322
        }
      },
      "source": [
        "PG['log_return'].plot(figsize=(8, 5))\n",
        "plt.show()"
      ],
      "execution_count": 0,
      "outputs": [
        {
          "output_type": "display_data",
          "data": {
            "image/png": "[encoded data removed]",
            "text/plain": [
              "<Figure size 576x360 with 1 Axes>"
            ]
          },
          "metadata": {
            "tags": []
          }
        }
      ]
    },
    {
      "cell_type": "code",
      "metadata": {
        "id": "HXvpRl9XnOXq",
        "colab_type": "code",
        "outputId": "05727a5f-898a-47c6-c525-04d461be5f5e",
        "colab": {
          "base_uri": "https://localhost:8080/",
          "height": 34
        }
      },
      "source": [
        "log_return_d = PG['log_return'].mean()\n",
        "log_return_d"
      ],
      "execution_count": 0,
      "outputs": [
        {
          "output_type": "execute_result",
          "data": {
            "text/plain": [
              "0.0004683457379568385"
            ]
          },
          "metadata": {
            "tags": []
          },
          "execution_count": 16
        }
      ]
    },
    {
      "cell_type": "code",
      "metadata": {
        "id": "yJOWfc0dnrf0",
        "colab_type": "code",
        "outputId": "c3c279df-4edc-4728-b56e-2e41c7b936e3",
        "colab": {
          "base_uri": "https://localhost:8080/",
          "height": 34
        }
      },
      "source": [
        "log_return_a = PG['log_return'].mean() * 250\n",
        "log_return_a"
      ],
      "execution_count": 0,
      "outputs": [
        {
          "output_type": "execute_result",
          "data": {
            "text/plain": [
              "0.11708643448920962"
            ]
          },
          "metadata": {
            "tags": []
          },
          "execution_count": 17
        }
      ]
    },
    {
      "cell_type": "code",
      "metadata": {
        "id": "WQ-uIvVOnhWB",
        "colab_type": "code",
        "outputId": "8e119754-f427-4143-bd67-37368b6f068d",
        "colab": {
          "base_uri": "https://localhost:8080/",
          "height": 34
        }
      },
      "source": [
        "print (str(round(log_return_a, 5) * 100 ) + '%')"
      ],
      "execution_count": 0,
      "outputs": [
        {
          "output_type": "stream",
          "text": [
            "11.709%\n"
          ],
          "name": "stdout"
        }
      ]
    },
    {
      "cell_type": "markdown",
      "metadata": {
        "id": "cDB9wIw5okAx",
        "colab_type": "text"
      },
      "source": [
        "# Taxa de retorno de um portfólio\n",
        " * sum(taxa de retorno de um ativo * peso no portfólio)"
      ]
    },
    {
      "cell_type": "code",
      "metadata": {
        "id": "8HpDZLEvpFAg",
        "colab_type": "code",
        "colab": {}
      },
      "source": [
        "import numpy as np\n",
        "import pandas as pd\n",
        "from pandas_datareader import data as wb\n",
        "import matplotlib.pyplot as plt"
      ],
      "execution_count": 0,
      "outputs": []
    },
    {
      "cell_type": "code",
      "metadata": {
        "id": "2CDtDbrkpLqH",
        "colab_type": "code",
        "colab": {}
      },
      "source": [
        "tickers = ['PETR4.SA','VALE3.SA','HGTX3.SA','ITUB3.SA']\n",
        "mydata = pd.DataFrame()\n",
        "for t in tickers:\n",
        "  mydata[t] = wb.DataReader(t, data_source='yahoo', start='2004-1-1')['Adj Close']"
      ],
      "execution_count": 0,
      "outputs": []
    },
    {
      "cell_type": "code",
      "metadata": {
        "id": "yKfo5gxipbFe",
        "colab_type": "code",
        "outputId": "70cbc803-e344-40a1-99b1-2f7cc5f272df",
        "colab": {
          "base_uri": "https://localhost:8080/",
          "height": 170
        }
      },
      "source": [
        "mydata.info()"
      ],
      "execution_count": 0,
      "outputs": [
        {
          "output_type": "stream",
          "text": [
            "<class 'pandas.core.frame.DataFrame'>\n",
            "DatetimeIndex: 2838 entries, 2008-01-02 to 2019-08-16\n",
            "Data columns (total 4 columns):\n",
            "PETR4.SA    2838 non-null float64\n",
            "VALE3.SA    2836 non-null float64\n",
            "HGTX3.SA    2834 non-null float64\n",
            "ITUB3.SA    2835 non-null float64\n",
            "dtypes: float64(4)\n",
            "memory usage: 110.9 KB\n"
          ],
          "name": "stdout"
        }
      ]
    },
    {
      "cell_type": "code",
      "metadata": {
        "id": "ZK6ef4IepkvO",
        "colab_type": "code",
        "outputId": "9562b8a3-d70a-4db7-d261-85cd71da5383",
        "colab": {
          "base_uri": "https://localhost:8080/",
          "height": 235
        }
      },
      "source": [
        "mydata.head()"
      ],
      "execution_count": 0,
      "outputs": [
        {
          "output_type": "execute_result",
          "data": {
            "text/html": [
              "<div>\n",
              "<style scoped>\n",
              "    .dataframe tbody tr th:only-of-type {\n",
              "        vertical-align: middle;\n",
              "    }\n",
              "\n",
              "    .dataframe tbody tr th {\n",
              "        vertical-align: top;\n",
              "    }\n",
              "\n",
              "    .dataframe thead th {\n",
              "        text-align: right;\n",
              "    }\n",
              "</style>\n",
              "<table border=\"1\" class=\"dataframe\">\n",
              "  <thead>\n",
              "    <tr style=\"text-align: right;\">\n",
              "      <th></th>\n",
              "      <th>PETR4.SA</th>\n",
              "      <th>VALE3.SA</th>\n",
              "      <th>HGTX3.SA</th>\n",
              "      <th>ITUB3.SA</th>\n",
              "    </tr>\n",
              "    <tr>\n",
              "      <th>Date</th>\n",
              "      <th></th>\n",
              "      <th></th>\n",
              "      <th></th>\n",
              "      <th></th>\n",
              "    </tr>\n",
              "  </thead>\n",
              "  <tbody>\n",
              "    <tr>\n",
              "      <th>2000-01-03</th>\n",
              "      <td>4.133735</td>\n",
              "      <td>2.326085</td>\n",
              "      <td>39524124.0</td>\n",
              "      <td>1.554985</td>\n",
              "    </tr>\n",
              "    <tr>\n",
              "      <th>2000-01-04</th>\n",
              "      <td>3.905061</td>\n",
              "      <td>2.270704</td>\n",
              "      <td>39524124.0</td>\n",
              "      <td>1.499451</td>\n",
              "    </tr>\n",
              "    <tr>\n",
              "      <th>2000-01-05</th>\n",
              "      <td>3.865658</td>\n",
              "      <td>2.270704</td>\n",
              "      <td>36483816.0</td>\n",
              "      <td>1.488343</td>\n",
              "    </tr>\n",
              "    <tr>\n",
              "      <th>2000-01-06</th>\n",
              "      <td>3.852290</td>\n",
              "      <td>2.270704</td>\n",
              "      <td>37091880.0</td>\n",
              "      <td>1.443915</td>\n",
              "    </tr>\n",
              "    <tr>\n",
              "      <th>2000-01-07</th>\n",
              "      <td>3.869879</td>\n",
              "      <td>2.353779</td>\n",
              "      <td>39524124.0</td>\n",
              "      <td>1.554985</td>\n",
              "    </tr>\n",
              "  </tbody>\n",
              "</table>\n",
              "</div>"
            ],
            "text/plain": [
              "            PETR4.SA  VALE3.SA    HGTX3.SA  ITUB3.SA\n",
              "Date                                                \n",
              "2000-01-03  4.133735  2.326085  39524124.0  1.554985\n",
              "2000-01-04  3.905061  2.270704  39524124.0  1.499451\n",
              "2000-01-05  3.865658  2.270704  36483816.0  1.488343\n",
              "2000-01-06  3.852290  2.270704  37091880.0  1.443915\n",
              "2000-01-07  3.869879  2.353779  39524124.0  1.554985"
            ]
          },
          "metadata": {
            "tags": []
          },
          "execution_count": 60
        }
      ]
    },
    {
      "cell_type": "code",
      "metadata": {
        "id": "EVn2q0IIppHV",
        "colab_type": "code",
        "outputId": "c8296623-0a4c-46a4-ca7d-39cfb3b3f64e",
        "colab": {
          "base_uri": "https://localhost:8080/",
          "height": 235
        }
      },
      "source": [
        "mydata.tail()"
      ],
      "execution_count": 0,
      "outputs": [
        {
          "output_type": "execute_result",
          "data": {
            "text/html": [
              "<div>\n",
              "<style scoped>\n",
              "    .dataframe tbody tr th:only-of-type {\n",
              "        vertical-align: middle;\n",
              "    }\n",
              "\n",
              "    .dataframe tbody tr th {\n",
              "        vertical-align: top;\n",
              "    }\n",
              "\n",
              "    .dataframe thead th {\n",
              "        text-align: right;\n",
              "    }\n",
              "</style>\n",
              "<table border=\"1\" class=\"dataframe\">\n",
              "  <thead>\n",
              "    <tr style=\"text-align: right;\">\n",
              "      <th></th>\n",
              "      <th>PETR4.SA</th>\n",
              "      <th>VALE3.SA</th>\n",
              "      <th>HGTX3.SA</th>\n",
              "      <th>ITUB3.SA</th>\n",
              "    </tr>\n",
              "    <tr>\n",
              "      <th>Date</th>\n",
              "      <th></th>\n",
              "      <th></th>\n",
              "      <th></th>\n",
              "      <th></th>\n",
              "    </tr>\n",
              "  </thead>\n",
              "  <tbody>\n",
              "    <tr>\n",
              "      <th>2019-08-12</th>\n",
              "      <td>25.450001</td>\n",
              "      <td>45.160000</td>\n",
              "      <td>34.779999</td>\n",
              "      <td>30.416975</td>\n",
              "    </tr>\n",
              "    <tr>\n",
              "      <th>2019-08-13</th>\n",
              "      <td>25.790001</td>\n",
              "      <td>46.500000</td>\n",
              "      <td>34.840000</td>\n",
              "      <td>30.704678</td>\n",
              "    </tr>\n",
              "    <tr>\n",
              "      <th>2019-08-14</th>\n",
              "      <td>24.920000</td>\n",
              "      <td>44.880001</td>\n",
              "      <td>34.189999</td>\n",
              "      <td>30.159035</td>\n",
              "    </tr>\n",
              "    <tr>\n",
              "      <th>2019-08-15</th>\n",
              "      <td>24.230000</td>\n",
              "      <td>43.889999</td>\n",
              "      <td>32.980000</td>\n",
              "      <td>29.950701</td>\n",
              "    </tr>\n",
              "    <tr>\n",
              "      <th>2019-08-16</th>\n",
              "      <td>24.330000</td>\n",
              "      <td>43.610001</td>\n",
              "      <td>32.709999</td>\n",
              "      <td>29.590000</td>\n",
              "    </tr>\n",
              "  </tbody>\n",
              "</table>\n",
              "</div>"
            ],
            "text/plain": [
              "             PETR4.SA   VALE3.SA   HGTX3.SA   ITUB3.SA\n",
              "Date                                                  \n",
              "2019-08-12  25.450001  45.160000  34.779999  30.416975\n",
              "2019-08-13  25.790001  46.500000  34.840000  30.704678\n",
              "2019-08-14  24.920000  44.880001  34.189999  30.159035\n",
              "2019-08-15  24.230000  43.889999  32.980000  29.950701\n",
              "2019-08-16  24.330000  43.610001  32.709999  29.590000"
            ]
          },
          "metadata": {
            "tags": []
          },
          "execution_count": 61
        }
      ]
    },
    {
      "cell_type": "code",
      "metadata": {
        "id": "ll9k1MGDprPN",
        "colab_type": "code",
        "outputId": "f103a0e6-b03d-4a0f-e1d0-93b89b15b7f9",
        "colab": {
          "base_uri": "https://localhost:8080/",
          "height": 102
        }
      },
      "source": [
        "mydata.iloc[0] #Primeira linha mydata.loc['2008-01-03'] = utiliza o rótulo, o iloc a posição"
      ],
      "execution_count": 0,
      "outputs": [
        {
          "output_type": "execute_result",
          "data": {
            "text/plain": [
              "PETR4.SA    6.965784e+00\n",
              "VALE3.SA    9.664352e+00\n",
              "HGTX3.SA    1.216127e+07\n",
              "ITUB3.SA    2.810076e+00\n",
              "Name: 2004-01-02 00:00:00, dtype: float64"
            ]
          },
          "metadata": {
            "tags": []
          },
          "execution_count": 67
        }
      ]
    },
    {
      "cell_type": "code",
      "metadata": {
        "id": "w3VVPlvXp6B1",
        "colab_type": "code",
        "outputId": "17ed4688-79e2-463c-f2f0-cad931f085df",
        "colab": {
          "base_uri": "https://localhost:8080/",
          "height": 371
        }
      },
      "source": [
        "#normalizando\n",
        "(mydata / mydata.iloc[0] * 100).plot(figsize=(15,6));\n",
        "plt.show()"
      ],
      "execution_count": 0,
      "outputs": [
        {
          "output_type": "display_data",
          "data": {
            "image/png": "[encoded data removed]",
            "text/plain": [
              "<Figure size 1080x432 with 1 Axes>"
            ]
          },
          "metadata": {
            "tags": []
          }
        }
      ]
    },
    {
      "cell_type": "markdown",
      "metadata": {
        "id": "TDmZxGzTq2j2",
        "colab_type": "text"
      },
      "source": [
        "# Retorno simples de um portfólio"
      ]
    },
    {
      "cell_type": "code",
      "metadata": {
        "id": "q9Pod33Uq6wK",
        "colab_type": "code",
        "outputId": "f477de67-d397-43cb-d50b-b2e2156ea573",
        "colab": {
          "base_uri": "https://localhost:8080/",
          "height": 235
        }
      },
      "source": [
        "returns = (mydata / mydata.shift(1)) - 1\n",
        "returns.head()"
      ],
      "execution_count": 0,
      "outputs": [
        {
          "output_type": "execute_result",
          "data": {
            "text/html": [
              "<div>\n",
              "<style scoped>\n",
              "    .dataframe tbody tr th:only-of-type {\n",
              "        vertical-align: middle;\n",
              "    }\n",
              "\n",
              "    .dataframe tbody tr th {\n",
              "        vertical-align: top;\n",
              "    }\n",
              "\n",
              "    .dataframe thead th {\n",
              "        text-align: right;\n",
              "    }\n",
              "</style>\n",
              "<table border=\"1\" class=\"dataframe\">\n",
              "  <thead>\n",
              "    <tr style=\"text-align: right;\">\n",
              "      <th></th>\n",
              "      <th>PETR4.SA</th>\n",
              "      <th>VALE3.SA</th>\n",
              "      <th>HGTX3.SA</th>\n",
              "      <th>ITUB3.SA</th>\n",
              "    </tr>\n",
              "    <tr>\n",
              "      <th>Date</th>\n",
              "      <th></th>\n",
              "      <th></th>\n",
              "      <th></th>\n",
              "      <th></th>\n",
              "    </tr>\n",
              "  </thead>\n",
              "  <tbody>\n",
              "    <tr>\n",
              "      <th>2008-01-02</th>\n",
              "      <td>NaN</td>\n",
              "      <td>NaN</td>\n",
              "      <td>NaN</td>\n",
              "      <td>NaN</td>\n",
              "    </tr>\n",
              "    <tr>\n",
              "      <th>2008-01-03</th>\n",
              "      <td>-0.016092</td>\n",
              "      <td>0.005181</td>\n",
              "      <td>0.006000</td>\n",
              "      <td>-0.028572</td>\n",
              "    </tr>\n",
              "    <tr>\n",
              "      <th>2008-01-04</th>\n",
              "      <td>-0.049065</td>\n",
              "      <td>-0.036083</td>\n",
              "      <td>-0.026839</td>\n",
              "      <td>0.000000</td>\n",
              "    </tr>\n",
              "    <tr>\n",
              "      <th>2008-01-07</th>\n",
              "      <td>-0.029361</td>\n",
              "      <td>-0.017826</td>\n",
              "      <td>0.006129</td>\n",
              "      <td>-0.014706</td>\n",
              "    </tr>\n",
              "    <tr>\n",
              "      <th>2008-01-08</th>\n",
              "      <td>0.054930</td>\n",
              "      <td>0.019964</td>\n",
              "      <td>0.005077</td>\n",
              "      <td>0.007466</td>\n",
              "    </tr>\n",
              "  </tbody>\n",
              "</table>\n",
              "</div>"
            ],
            "text/plain": [
              "            PETR4.SA  VALE3.SA  HGTX3.SA  ITUB3.SA\n",
              "Date                                              \n",
              "2008-01-02       NaN       NaN       NaN       NaN\n",
              "2008-01-03 -0.016092  0.005181  0.006000 -0.028572\n",
              "2008-01-04 -0.049065 -0.036083 -0.026839  0.000000\n",
              "2008-01-07 -0.029361 -0.017826  0.006129 -0.014706\n",
              "2008-01-08  0.054930  0.019964  0.005077  0.007466"
            ]
          },
          "metadata": {
            "tags": []
          },
          "execution_count": 49
        }
      ]
    },
    {
      "cell_type": "code",
      "metadata": {
        "id": "el5Vna1zq-8L",
        "colab_type": "code",
        "colab": {}
      },
      "source": [
        "weights = np.array([0.25,0.25,0.25,0.25])"
      ],
      "execution_count": 0,
      "outputs": []
    },
    {
      "cell_type": "code",
      "metadata": {
        "id": "G3wEpCdWrG2T",
        "colab_type": "code",
        "outputId": "6c80a882-0692-4cf5-f870-93418ca0ee0f",
        "colab": {
          "base_uri": "https://localhost:8080/",
          "height": 51
        }
      },
      "source": [
        "np.dot(returns, weights) #Calcula produto vetorial ou de matrizes, resultado = produto escalar"
      ],
      "execution_count": 0,
      "outputs": [
        {
          "output_type": "execute_result",
          "data": {
            "text/plain": [
              "array([        nan, -0.00837066, -0.02799683, ..., -0.02625004,\n",
              "       -0.02301144, -0.0053989 ])"
            ]
          },
          "metadata": {
            "tags": []
          },
          "execution_count": 51
        }
      ]
    },
    {
      "cell_type": "code",
      "metadata": {
        "id": "UbdbNND-rRJi",
        "colab_type": "code",
        "outputId": "c7da4c60-4473-4691-d2fd-06f91725e41d",
        "colab": {
          "base_uri": "https://localhost:8080/",
          "height": 102
        }
      },
      "source": [
        "anual_returns = returns.mean() * 250\n",
        "anual_returns"
      ],
      "execution_count": 0,
      "outputs": [
        {
          "output_type": "execute_result",
          "data": {
            "text/plain": [
              "PETR4.SA    0.073993\n",
              "VALE3.SA    0.111061\n",
              "HGTX3.SA    1.316685\n",
              "ITUB3.SA    0.155333\n",
              "dtype: float64"
            ]
          },
          "metadata": {
            "tags": []
          },
          "execution_count": 52
        }
      ]
    },
    {
      "cell_type": "code",
      "metadata": {
        "id": "IZOgkFDrrYDR",
        "colab_type": "code",
        "outputId": "04f3bc51-391d-4b77-d738-35da8b073722",
        "colab": {
          "base_uri": "https://localhost:8080/",
          "height": 34
        }
      },
      "source": [
        "np.dot(anual_returns, weights)"
      ],
      "execution_count": 0,
      "outputs": [
        {
          "output_type": "execute_result",
          "data": {
            "text/plain": [
              "0.4142677700840772"
            ]
          },
          "metadata": {
            "tags": []
          },
          "execution_count": 53
        }
      ]
    },
    {
      "cell_type": "code",
      "metadata": {
        "id": "sVvMjeptrgEy",
        "colab_type": "code",
        "outputId": "b0d84a4b-6941-40ed-e691-f5153efad876",
        "colab": {
          "base_uri": "https://localhost:8080/",
          "height": 34
        }
      },
      "source": [
        "pfolio_1 = str(round(np.dot(anual_returns, weights),5)*100)+'%'\n",
        "print (pfolio_1)"
      ],
      "execution_count": 0,
      "outputs": [
        {
          "output_type": "stream",
          "text": [
            "41.427%\n"
          ],
          "name": "stdout"
        }
      ]
    },
    {
      "cell_type": "code",
      "metadata": {
        "id": "-C-eOpg8rr5C",
        "colab_type": "code",
        "colab": {}
      },
      "source": [
        "weights_2 = np.array([0.4,0.4,0.15,0.05])"
      ],
      "execution_count": 0,
      "outputs": []
    },
    {
      "cell_type": "code",
      "metadata": {
        "id": "3WZOC-ALrye6",
        "colab_type": "code",
        "outputId": "41e06464-9a01-4726-efba-cc0c1ec23627",
        "colab": {
          "base_uri": "https://localhost:8080/",
          "height": 34
        }
      },
      "source": [
        "pfolio_2 = str(round(np.dot(anual_returns, weights_2),5)*100)+'%'\n",
        "print (pfolio_2)"
      ],
      "execution_count": 0,
      "outputs": [
        {
          "output_type": "stream",
          "text": [
            "27.929%\n"
          ],
          "name": "stdout"
        }
      ]
    },
    {
      "cell_type": "markdown",
      "metadata": {
        "id": "eN1xzLMZ1r1R",
        "colab_type": "text"
      },
      "source": [
        "# Calculando retorno de índices"
      ]
    },
    {
      "cell_type": "code",
      "metadata": {
        "id": "6z_eajSy1wlO",
        "colab_type": "code",
        "colab": {}
      },
      "source": [
        "import numpy as np\n",
        "import pandas as pd\n",
        "from pandas_datareader import data as wb\n",
        "import matplotlib.pyplot as plt"
      ],
      "execution_count": 0,
      "outputs": []
    },
    {
      "cell_type": "code",
      "metadata": {
        "id": "aNm3xeNu14rF",
        "colab_type": "code",
        "colab": {}
      },
      "source": [
        "tickers = ['^GSPC', '^IXIC','^GDAXI', '^BVSP'] #s&p500, nasdaq, indice alemao dax, bovespa\n",
        "int_data = pd.DataFrame()\n",
        "\n",
        "for t in tickers:\n",
        "  int_data[t]=wb.DataReader(t, data_source='yahoo', start='2007-1-1')['Adj Close']"
      ],
      "execution_count": 0,
      "outputs": []
    },
    {
      "cell_type": "code",
      "metadata": {
        "id": "IIAwUC6X2YYL",
        "colab_type": "code",
        "outputId": "d6ae281e-d38d-4a22-b91b-6c07727d6cfd",
        "colab": {
          "base_uri": "https://localhost:8080/",
          "height": 235
        }
      },
      "source": [
        "int_data.head()"
      ],
      "execution_count": 0,
      "outputs": [
        {
          "output_type": "execute_result",
          "data": {
            "text/html": [
              "<div>\n",
              "<style scoped>\n",
              "    .dataframe tbody tr th:only-of-type {\n",
              "        vertical-align: middle;\n",
              "    }\n",
              "\n",
              "    .dataframe tbody tr th {\n",
              "        vertical-align: top;\n",
              "    }\n",
              "\n",
              "    .dataframe thead th {\n",
              "        text-align: right;\n",
              "    }\n",
              "</style>\n",
              "<table border=\"1\" class=\"dataframe\">\n",
              "  <thead>\n",
              "    <tr style=\"text-align: right;\">\n",
              "      <th></th>\n",
              "      <th>^GSPC</th>\n",
              "      <th>^IXIC</th>\n",
              "      <th>^GDAXI</th>\n",
              "      <th>^BVSP</th>\n",
              "    </tr>\n",
              "    <tr>\n",
              "      <th>Date</th>\n",
              "      <th></th>\n",
              "      <th></th>\n",
              "      <th></th>\n",
              "      <th></th>\n",
              "    </tr>\n",
              "  </thead>\n",
              "  <tbody>\n",
              "    <tr>\n",
              "      <th>2007-01-03</th>\n",
              "      <td>1416.599976</td>\n",
              "      <td>2423.159912</td>\n",
              "      <td>6691.319824</td>\n",
              "      <td>44445.0</td>\n",
              "    </tr>\n",
              "    <tr>\n",
              "      <th>2007-01-04</th>\n",
              "      <td>1418.339966</td>\n",
              "      <td>2453.429932</td>\n",
              "      <td>6674.399902</td>\n",
              "      <td>44020.0</td>\n",
              "    </tr>\n",
              "    <tr>\n",
              "      <th>2007-01-05</th>\n",
              "      <td>1409.709961</td>\n",
              "      <td>2434.250000</td>\n",
              "      <td>6593.089844</td>\n",
              "      <td>42245.0</td>\n",
              "    </tr>\n",
              "    <tr>\n",
              "      <th>2007-01-08</th>\n",
              "      <td>1412.839966</td>\n",
              "      <td>2438.199951</td>\n",
              "      <td>6607.589844</td>\n",
              "      <td>42830.0</td>\n",
              "    </tr>\n",
              "    <tr>\n",
              "      <th>2007-01-09</th>\n",
              "      <td>1412.109985</td>\n",
              "      <td>2443.830078</td>\n",
              "      <td>6614.370117</td>\n",
              "      <td>42007.0</td>\n",
              "    </tr>\n",
              "  </tbody>\n",
              "</table>\n",
              "</div>"
            ],
            "text/plain": [
              "                  ^GSPC        ^IXIC       ^GDAXI    ^BVSP\n",
              "Date                                                      \n",
              "2007-01-03  1416.599976  2423.159912  6691.319824  44445.0\n",
              "2007-01-04  1418.339966  2453.429932  6674.399902  44020.0\n",
              "2007-01-05  1409.709961  2434.250000  6593.089844  42245.0\n",
              "2007-01-08  1412.839966  2438.199951  6607.589844  42830.0\n",
              "2007-01-09  1412.109985  2443.830078  6614.370117  42007.0"
            ]
          },
          "metadata": {
            "tags": []
          },
          "execution_count": 8
        }
      ]
    },
    {
      "cell_type": "code",
      "metadata": {
        "id": "WLRKRcpl3Ffw",
        "colab_type": "code",
        "outputId": "d1306a87-bc25-44ce-d234-e1955a4d243d",
        "colab": {
          "base_uri": "https://localhost:8080/",
          "height": 388
        }
      },
      "source": [
        "(int_data / int_data.iloc[0] * 100).plot(figsize=(15,6))"
      ],
      "execution_count": 0,
      "outputs": [
        {
          "output_type": "execute_result",
          "data": {
            "text/plain": [
              "<matplotlib.axes._subplots.AxesSubplot at 0x7f83d347d208>"
            ]
          },
          "metadata": {
            "tags": []
          },
          "execution_count": 9
        },
        {
          "output_type": "display_data",
          "data": {
            "image/png": "[encoded data removed]",
            "text/plain": [
              "<Figure size 1080x432 with 1 Axes>"
            ]
          },
          "metadata": {
            "tags": []
          }
        }
      ]
    },
    {
      "cell_type": "code",
      "metadata": {
        "id": "LGLat-6B3SA5",
        "colab_type": "code",
        "outputId": "8ac82c8a-05e5-471b-ce37-f914918aea76",
        "colab": {
          "base_uri": "https://localhost:8080/",
          "height": 235
        }
      },
      "source": [
        "ind_returns = (int_data / int_data.shift(1)) -1\n",
        "ind_returns.tail()"
      ],
      "execution_count": 0,
      "outputs": [
        {
          "output_type": "execute_result",
          "data": {
            "text/html": [
              "<div>\n",
              "<style scoped>\n",
              "    .dataframe tbody tr th:only-of-type {\n",
              "        vertical-align: middle;\n",
              "    }\n",
              "\n",
              "    .dataframe tbody tr th {\n",
              "        vertical-align: top;\n",
              "    }\n",
              "\n",
              "    .dataframe thead th {\n",
              "        text-align: right;\n",
              "    }\n",
              "</style>\n",
              "<table border=\"1\" class=\"dataframe\">\n",
              "  <thead>\n",
              "    <tr style=\"text-align: right;\">\n",
              "      <th></th>\n",
              "      <th>^GSPC</th>\n",
              "      <th>^IXIC</th>\n",
              "      <th>^GDAXI</th>\n",
              "      <th>^BVSP</th>\n",
              "    </tr>\n",
              "    <tr>\n",
              "      <th>Date</th>\n",
              "      <th></th>\n",
              "      <th></th>\n",
              "      <th></th>\n",
              "      <th></th>\n",
              "    </tr>\n",
              "  </thead>\n",
              "  <tbody>\n",
              "    <tr>\n",
              "      <th>2019-08-12</th>\n",
              "      <td>-0.012317</td>\n",
              "      <td>-0.012028</td>\n",
              "      <td>-0.001207</td>\n",
              "      <td>-0.020010</td>\n",
              "    </tr>\n",
              "    <tr>\n",
              "      <th>2019-08-13</th>\n",
              "      <td>0.015132</td>\n",
              "      <td>0.019451</td>\n",
              "      <td>0.006032</td>\n",
              "      <td>0.013580</td>\n",
              "    </tr>\n",
              "    <tr>\n",
              "      <th>2019-08-14</th>\n",
              "      <td>-0.029293</td>\n",
              "      <td>-0.030241</td>\n",
              "      <td>-0.021912</td>\n",
              "      <td>-0.029439</td>\n",
              "    </tr>\n",
              "    <tr>\n",
              "      <th>2019-08-15</th>\n",
              "      <td>0.002464</td>\n",
              "      <td>-0.000942</td>\n",
              "      <td>-0.006960</td>\n",
              "      <td>-0.011979</td>\n",
              "    </tr>\n",
              "    <tr>\n",
              "      <th>2019-08-16</th>\n",
              "      <td>0.014426</td>\n",
              "      <td>0.016657</td>\n",
              "      <td>0.013149</td>\n",
              "      <td>0.007561</td>\n",
              "    </tr>\n",
              "  </tbody>\n",
              "</table>\n",
              "</div>"
            ],
            "text/plain": [
              "               ^GSPC     ^IXIC    ^GDAXI     ^BVSP\n",
              "Date                                              \n",
              "2019-08-12 -0.012317 -0.012028 -0.001207 -0.020010\n",
              "2019-08-13  0.015132  0.019451  0.006032  0.013580\n",
              "2019-08-14 -0.029293 -0.030241 -0.021912 -0.029439\n",
              "2019-08-15  0.002464 -0.000942 -0.006960 -0.011979\n",
              "2019-08-16  0.014426  0.016657  0.013149  0.007561"
            ]
          },
          "metadata": {
            "tags": []
          },
          "execution_count": 11
        }
      ]
    },
    {
      "cell_type": "code",
      "metadata": {
        "id": "gQKeiZUV3pOX",
        "colab_type": "code",
        "outputId": "10176600-2418-4151-a9db-5af0c9d95cd6",
        "colab": {
          "base_uri": "https://localhost:8080/",
          "height": 102
        }
      },
      "source": [
        "annual_ind_returns = ind_returns.mean() * 250\n",
        "annual_ind_returns"
      ],
      "execution_count": 0,
      "outputs": [
        {
          "output_type": "execute_result",
          "data": {
            "text/plain": [
              "^GSPC     0.075077\n",
              "^IXIC     0.115204\n",
              "^GDAXI    0.056590\n",
              "^BVSP     0.086056\n",
              "dtype: float64"
            ]
          },
          "metadata": {
            "tags": []
          },
          "execution_count": 12
        }
      ]
    },
    {
      "cell_type": "code",
      "metadata": {
        "id": "lZPSLQ6Y3yiH",
        "colab_type": "code",
        "colab": {}
      },
      "source": [
        "tickers = ['PG', '^GSPC', '^DJI'] #pg, s&p500 e down jones\n",
        "int_data2 = pd.DataFrame()\n",
        "\n",
        "for t in tickers:\n",
        "  int_data2[t]=wb.DataReader(t, data_source='yahoo', start='2007-1-1')['Adj Close']"
      ],
      "execution_count": 0,
      "outputs": []
    },
    {
      "cell_type": "code",
      "metadata": {
        "id": "M_QC3d5d4UQN",
        "colab_type": "code",
        "outputId": "4a24eedd-a48f-46ca-a036-5048e94f4cca",
        "colab": {
          "base_uri": "https://localhost:8080/",
          "height": 388
        }
      },
      "source": [
        "(int_data2 / int_data2.iloc[0] * 100).plot(figsize=(15,6))"
      ],
      "execution_count": 0,
      "outputs": [
        {
          "output_type": "execute_result",
          "data": {
            "text/plain": [
              "<matplotlib.axes._subplots.AxesSubplot at 0x7f83d309f048>"
            ]
          },
          "metadata": {
            "tags": []
          },
          "execution_count": 17
        },
        {
          "output_type": "display_data",
          "data": {
            "image/png": "[encoded data removed]",
            "text/plain": [
              "<Figure size 1080x432 with 1 Axes>"
            ]
          },
          "metadata": {
            "tags": []
          }
        }
      ]
    },
    {
      "cell_type": "code",
      "metadata": {
        "id": "sIwMu4lS4HIm",
        "colab_type": "code",
        "outputId": "74c7fd56-db8a-4fc9-e203-ca69d259c241",
        "colab": {
          "base_uri": "https://localhost:8080/",
          "height": 235
        }
      },
      "source": [
        "ind_returns2 = (int_data2 / int_data2.shift(1)) -1\n",
        "ind_returns2.tail()"
      ],
      "execution_count": 0,
      "outputs": [
        {
          "output_type": "execute_result",
          "data": {
            "text/html": [
              "<div>\n",
              "<style scoped>\n",
              "    .dataframe tbody tr th:only-of-type {\n",
              "        vertical-align: middle;\n",
              "    }\n",
              "\n",
              "    .dataframe tbody tr th {\n",
              "        vertical-align: top;\n",
              "    }\n",
              "\n",
              "    .dataframe thead th {\n",
              "        text-align: right;\n",
              "    }\n",
              "</style>\n",
              "<table border=\"1\" class=\"dataframe\">\n",
              "  <thead>\n",
              "    <tr style=\"text-align: right;\">\n",
              "      <th></th>\n",
              "      <th>PG</th>\n",
              "      <th>^GSPC</th>\n",
              "      <th>^DJI</th>\n",
              "    </tr>\n",
              "    <tr>\n",
              "      <th>Date</th>\n",
              "      <th></th>\n",
              "      <th></th>\n",
              "      <th></th>\n",
              "    </tr>\n",
              "  </thead>\n",
              "  <tbody>\n",
              "    <tr>\n",
              "      <th>2019-08-12</th>\n",
              "      <td>-0.006422</td>\n",
              "      <td>-0.012317</td>\n",
              "      <td>-0.014874</td>\n",
              "    </tr>\n",
              "    <tr>\n",
              "      <th>2019-08-13</th>\n",
              "      <td>0.010515</td>\n",
              "      <td>0.015132</td>\n",
              "      <td>0.014808</td>\n",
              "    </tr>\n",
              "    <tr>\n",
              "      <th>2019-08-14</th>\n",
              "      <td>-0.012452</td>\n",
              "      <td>-0.029293</td>\n",
              "      <td>-0.030460</td>\n",
              "    </tr>\n",
              "    <tr>\n",
              "      <th>2019-08-15</th>\n",
              "      <td>0.013818</td>\n",
              "      <td>0.002464</td>\n",
              "      <td>0.003924</td>\n",
              "    </tr>\n",
              "    <tr>\n",
              "      <th>2019-08-16</th>\n",
              "      <td>0.015248</td>\n",
              "      <td>0.014426</td>\n",
              "      <td>0.011987</td>\n",
              "    </tr>\n",
              "  </tbody>\n",
              "</table>\n",
              "</div>"
            ],
            "text/plain": [
              "                  PG     ^GSPC      ^DJI\n",
              "Date                                    \n",
              "2019-08-12 -0.006422 -0.012317 -0.014874\n",
              "2019-08-13  0.010515  0.015132  0.014808\n",
              "2019-08-14 -0.012452 -0.029293 -0.030460\n",
              "2019-08-15  0.013818  0.002464  0.003924\n",
              "2019-08-16  0.015248  0.014426  0.011987"
            ]
          },
          "metadata": {
            "tags": []
          },
          "execution_count": 16
        }
      ]
    },
    {
      "cell_type": "code",
      "metadata": {
        "id": "rAlJvkYp4PYX",
        "colab_type": "code",
        "outputId": "16435591-51fa-4032-dfab-a6a8b4aa099f",
        "colab": {
          "base_uri": "https://localhost:8080/",
          "height": 85
        }
      },
      "source": [
        "annual_ind_returns2 = ind_returns2.mean() * 250\n",
        "annual_ind_returns2"
      ],
      "execution_count": 0,
      "outputs": [
        {
          "output_type": "execute_result",
          "data": {
            "text/plain": [
              "PG       0.093535\n",
              "^GSPC    0.075077\n",
              "^DJI     0.073856\n",
              "dtype: float64"
            ]
          },
          "metadata": {
            "tags": []
          },
          "execution_count": 18
        }
      ]
    },
    {
      "cell_type": "markdown",
      "metadata": {
        "id": "K5twfyXP4mlX",
        "colab_type": "text"
      },
      "source": [
        "#Medir risco de um ativo\n",
        " * Variância \n",
        "  * s^2 = (sum(valor-média)^2) / Quantidade -1\n",
        " * Desvio Padrão\n",
        "  * Raíz quadrada da variância\n",
        "  "
      ]
    },
    {
      "cell_type": "code",
      "metadata": {
        "id": "IUkeh7AM4rGM",
        "colab_type": "code",
        "colab": {}
      },
      "source": [
        "import numpy as np\n",
        "import pandas as pd\n",
        "from pandas_datareader import data as wb\n",
        "import matplotlib.pyplot as plt"
      ],
      "execution_count": 0,
      "outputs": []
    },
    {
      "cell_type": "code",
      "metadata": {
        "id": "pcV__blsPuJh",
        "colab_type": "code",
        "colab": {}
      },
      "source": [
        "tickers = ['PG', 'BEI.DE'] \n",
        "sec_data = pd.DataFrame()\n",
        "\n",
        "for t in tickers:\n",
        "  sec_data[t]=wb.DataReader(t, data_source='yahoo', start='2007-1-1')['Adj Close']"
      ],
      "execution_count": 0,
      "outputs": []
    },
    {
      "cell_type": "code",
      "metadata": {
        "id": "yk97pn7rP8D2",
        "colab_type": "code",
        "outputId": "a61fa47c-512d-45d4-fe57-6dbb7a3cdf20",
        "colab": {
          "base_uri": "https://localhost:8080/",
          "height": 235
        }
      },
      "source": [
        "sec_data.tail()"
      ],
      "execution_count": 0,
      "outputs": [
        {
          "output_type": "execute_result",
          "data": {
            "text/html": [
              "<div>\n",
              "<style scoped>\n",
              "    .dataframe tbody tr th:only-of-type {\n",
              "        vertical-align: middle;\n",
              "    }\n",
              "\n",
              "    .dataframe tbody tr th {\n",
              "        vertical-align: top;\n",
              "    }\n",
              "\n",
              "    .dataframe thead th {\n",
              "        text-align: right;\n",
              "    }\n",
              "</style>\n",
              "<table border=\"1\" class=\"dataframe\">\n",
              "  <thead>\n",
              "    <tr style=\"text-align: right;\">\n",
              "      <th></th>\n",
              "      <th>PG</th>\n",
              "      <th>BEI.DE</th>\n",
              "    </tr>\n",
              "    <tr>\n",
              "      <th>Date</th>\n",
              "      <th></th>\n",
              "      <th></th>\n",
              "    </tr>\n",
              "  </thead>\n",
              "  <tbody>\n",
              "    <tr>\n",
              "      <th>2019-08-12</th>\n",
              "      <td>116.029999</td>\n",
              "      <td>108.500000</td>\n",
              "    </tr>\n",
              "    <tr>\n",
              "      <th>2019-08-13</th>\n",
              "      <td>117.250000</td>\n",
              "      <td>107.949997</td>\n",
              "    </tr>\n",
              "    <tr>\n",
              "      <th>2019-08-14</th>\n",
              "      <td>115.790001</td>\n",
              "      <td>108.400002</td>\n",
              "    </tr>\n",
              "    <tr>\n",
              "      <th>2019-08-15</th>\n",
              "      <td>117.389999</td>\n",
              "      <td>109.949997</td>\n",
              "    </tr>\n",
              "    <tr>\n",
              "      <th>2019-08-16</th>\n",
              "      <td>119.180000</td>\n",
              "      <td>110.000000</td>\n",
              "    </tr>\n",
              "  </tbody>\n",
              "</table>\n",
              "</div>"
            ],
            "text/plain": [
              "                    PG      BEI.DE\n",
              "Date                              \n",
              "2019-08-12  116.029999  108.500000\n",
              "2019-08-13  117.250000  107.949997\n",
              "2019-08-14  115.790001  108.400002\n",
              "2019-08-15  117.389999  109.949997\n",
              "2019-08-16  119.180000  110.000000"
            ]
          },
          "metadata": {
            "tags": []
          },
          "execution_count": 3
        }
      ]
    },
    {
      "cell_type": "code",
      "metadata": {
        "id": "c9Ploe_-P-54",
        "colab_type": "code",
        "colab": {}
      },
      "source": [
        "sec_returns = np.log(sec_data / sec_data.shift(1))\n",
        "sec_returns"
      ],
      "execution_count": 0,
      "outputs": []
    },
    {
      "cell_type": "code",
      "metadata": {
        "id": "bUTQZ8RXQKLf",
        "colab_type": "code",
        "outputId": "bd3dbd77-68d7-4fc4-82e5-c57a0d36dc76",
        "colab": {
          "base_uri": "https://localhost:8080/",
          "height": 34
        }
      },
      "source": [
        "sec_returns['PG'].mean()"
      ],
      "execution_count": 4,
      "outputs": [
        {
          "output_type": "execute_result",
          "data": {
            "text/plain": [
              "0.000313841466765955"
            ]
          },
          "metadata": {
            "tags": []
          },
          "execution_count": 4
        }
      ]
    },
    {
      "cell_type": "code",
      "metadata": {
        "id": "uRlpwwlLQLXH",
        "colab_type": "code",
        "outputId": "d519f5d3-60fc-452d-ef48-7f90508661cb",
        "colab": {
          "base_uri": "https://localhost:8080/",
          "height": 34
        }
      },
      "source": [
        "sec_returns['PG'].mean() * 250"
      ],
      "execution_count": 0,
      "outputs": [
        {
          "output_type": "execute_result",
          "data": {
            "text/plain": [
              "0.07846036669148876"
            ]
          },
          "metadata": {
            "tags": []
          },
          "execution_count": 9
        }
      ]
    },
    {
      "cell_type": "code",
      "metadata": {
        "id": "TsPQ2KtbQiHS",
        "colab_type": "code",
        "outputId": "e43b105e-da7b-47d6-c449-199a9e1b9ecb",
        "colab": {
          "base_uri": "https://localhost:8080/",
          "height": 34
        }
      },
      "source": [
        "sec_returns['PG'].std() #Desvio Padrao"
      ],
      "execution_count": 0,
      "outputs": [
        {
          "output_type": "execute_result",
          "data": {
            "text/plain": [
              "0.010978498052125679"
            ]
          },
          "metadata": {
            "tags": []
          },
          "execution_count": 10
        }
      ]
    },
    {
      "cell_type": "code",
      "metadata": {
        "id": "OrxyN7oTQoCW",
        "colab_type": "code",
        "outputId": "2ff18684-6028-49f1-b880-46b37e9d11e0",
        "colab": {
          "base_uri": "https://localhost:8080/",
          "height": 34
        }
      },
      "source": [
        "sec_returns['PG'].std() * 250 ** 0.5 #Variancia"
      ],
      "execution_count": 0,
      "outputs": [
        {
          "output_type": "execute_result",
          "data": {
            "text/plain": [
              "0.1735852956621955"
            ]
          },
          "metadata": {
            "tags": []
          },
          "execution_count": 11
        }
      ]
    },
    {
      "cell_type": "code",
      "metadata": {
        "id": "aS8UCJtZQ1Xu",
        "colab_type": "code",
        "outputId": "92c44206-55ed-432e-b7de-8be8b1185849",
        "colab": {
          "base_uri": "https://localhost:8080/",
          "height": 34
        }
      },
      "source": [
        "sec_returns['BEI.DE'].mean()"
      ],
      "execution_count": 0,
      "outputs": [
        {
          "output_type": "execute_result",
          "data": {
            "text/plain": [
              "0.0003047855693356368"
            ]
          },
          "metadata": {
            "tags": []
          },
          "execution_count": 12
        }
      ]
    },
    {
      "cell_type": "code",
      "metadata": {
        "id": "DYO3ARb0Q8LG",
        "colab_type": "code",
        "outputId": "3d2d3aa4-467c-4373-a41b-8bd6c42f55a1",
        "colab": {
          "base_uri": "https://localhost:8080/",
          "height": 34
        }
      },
      "source": [
        "sec_returns['BEI.DE'].mean() * 250"
      ],
      "execution_count": 0,
      "outputs": [
        {
          "output_type": "execute_result",
          "data": {
            "text/plain": [
              "0.07619639233390921"
            ]
          },
          "metadata": {
            "tags": []
          },
          "execution_count": 13
        }
      ]
    },
    {
      "cell_type": "code",
      "metadata": {
        "id": "DKGGuXTMQ9p1",
        "colab_type": "code",
        "outputId": "7435f8f3-d971-4538-d792-16e018f87b23",
        "colab": {
          "base_uri": "https://localhost:8080/",
          "height": 34
        }
      },
      "source": [
        "sec_returns['BEI.DE'].std() #Desvio Padrao"
      ],
      "execution_count": 0,
      "outputs": [
        {
          "output_type": "execute_result",
          "data": {
            "text/plain": [
              "0.013663943186323352"
            ]
          },
          "metadata": {
            "tags": []
          },
          "execution_count": 14
        }
      ]
    },
    {
      "cell_type": "code",
      "metadata": {
        "id": "EO1bTEvPRBem",
        "colab_type": "code",
        "outputId": "b02894e3-b628-4c7b-8437-d38ef558617c",
        "colab": {
          "base_uri": "https://localhost:8080/",
          "height": 34
        }
      },
      "source": [
        "sec_returns['BEI.DE'].std() * 250 ** 0.5 #Variancia"
      ],
      "execution_count": 0,
      "outputs": [
        {
          "output_type": "execute_result",
          "data": {
            "text/plain": [
              "0.2160459114396014"
            ]
          },
          "metadata": {
            "tags": []
          },
          "execution_count": 15
        }
      ]
    },
    {
      "cell_type": "code",
      "metadata": {
        "id": "0BzQw-05REIt",
        "colab_type": "code",
        "outputId": "1ebf2e27-63a3-4636-a95e-4e33171047b3",
        "colab": {
          "base_uri": "https://localhost:8080/",
          "height": 51
        }
      },
      "source": [
        "print(sec_returns['PG'].mean() * 250)\n",
        "print(sec_returns['BEI.DE'].mean() * 250)"
      ],
      "execution_count": 0,
      "outputs": [
        {
          "output_type": "stream",
          "text": [
            "0.07846036669148876\n",
            "0.07619639233390921\n"
          ],
          "name": "stdout"
        }
      ]
    },
    {
      "cell_type": "code",
      "metadata": {
        "id": "SX4C9YiQRRR9",
        "colab_type": "code",
        "outputId": "987e1d84-d663-424a-f16d-dde41718493c",
        "colab": {
          "base_uri": "https://localhost:8080/",
          "height": 68
        }
      },
      "source": [
        "sec_returns[['PG','BEI.DE']].mean() * 250"
      ],
      "execution_count": 0,
      "outputs": [
        {
          "output_type": "execute_result",
          "data": {
            "text/plain": [
              "PG        0.078460\n",
              "BEI.DE    0.076196\n",
              "dtype: float64"
            ]
          },
          "metadata": {
            "tags": []
          },
          "execution_count": 22
        }
      ]
    },
    {
      "cell_type": "code",
      "metadata": {
        "id": "kVth83SsRZuP",
        "colab_type": "code",
        "outputId": "a462c080-61ec-46e4-8362-041bbc34709c",
        "colab": {
          "base_uri": "https://localhost:8080/",
          "height": 68
        }
      },
      "source": [
        "sec_returns[['PG','BEI.DE']].mean() * 250 ** 0.5"
      ],
      "execution_count": 0,
      "outputs": [
        {
          "output_type": "execute_result",
          "data": {
            "text/plain": [
              "PG        0.004962\n",
              "BEI.DE    0.004819\n",
              "dtype: float64"
            ]
          },
          "metadata": {
            "tags": []
          },
          "execution_count": 23
        }
      ]
    },
    {
      "cell_type": "markdown",
      "metadata": {
        "id": "YaudJwSFSQum",
        "colab_type": "text"
      },
      "source": [
        "#Covariancia\n",
        " * varia de menos infinto a mais infinito\n",
        "#Correlação\n",
        " * Pxy = ((X-x) * (Y-y)) / variancia(x) * sigma(y)\n",
        " * Se > 0 : Mesma direção\n",
        " * Se < 0 : Direções Opostas\n",
        " * Se = 0 : Independentes\n"
      ]
    },
    {
      "cell_type": "code",
      "metadata": {
        "id": "7RT7T3ImSTdO",
        "colab_type": "code",
        "outputId": "8be45801-4902-4727-cec4-52e6561a5334",
        "colab": {
          "base_uri": "https://localhost:8080/",
          "height": 34
        }
      },
      "source": [
        "PG_var = sec_returns['PG'].var() #calcula a variancia\n",
        "PG_var"
      ],
      "execution_count": 5,
      "outputs": [
        {
          "output_type": "execute_result",
          "data": {
            "text/plain": [
              "0.00012052741948052733"
            ]
          },
          "metadata": {
            "tags": []
          },
          "execution_count": 5
        }
      ]
    },
    {
      "cell_type": "code",
      "metadata": {
        "id": "TXaZynQnWEkr",
        "colab_type": "code",
        "outputId": "f1c5de95-f309-4a45-9dc5-e71fa2a6bf53",
        "colab": {
          "base_uri": "https://localhost:8080/",
          "height": 34
        }
      },
      "source": [
        "BEI_var = sec_returns['BEI.DE'].var()\n",
        "BEI_var"
      ],
      "execution_count": 6,
      "outputs": [
        {
          "output_type": "execute_result",
          "data": {
            "text/plain": [
              "0.00018670334339907237"
            ]
          },
          "metadata": {
            "tags": []
          },
          "execution_count": 6
        }
      ]
    },
    {
      "cell_type": "code",
      "metadata": {
        "id": "Ypatv4XHWM-Z",
        "colab_type": "code",
        "outputId": "981b0351-1849-4c0a-de77-89fe6939c1b7",
        "colab": {
          "base_uri": "https://localhost:8080/",
          "height": 34
        }
      },
      "source": [
        "PG_var = sec_returns['PG'].var() * 250\n",
        "PG_var"
      ],
      "execution_count": 0,
      "outputs": [
        {
          "output_type": "execute_result",
          "data": {
            "text/plain": [
              "0.030131854870131834"
            ]
          },
          "metadata": {
            "tags": []
          },
          "execution_count": 27
        }
      ]
    },
    {
      "cell_type": "code",
      "metadata": {
        "id": "Vmwl5LLQWTUz",
        "colab_type": "code",
        "outputId": "008c39b3-3025-4a78-9710-58d060ef8938",
        "colab": {
          "base_uri": "https://localhost:8080/",
          "height": 34
        }
      },
      "source": [
        "BEI_var = sec_returns['BEI.DE'].var() * 250\n",
        "BEI_var"
      ],
      "execution_count": 0,
      "outputs": [
        {
          "output_type": "execute_result",
          "data": {
            "text/plain": [
              "0.04667583584976809"
            ]
          },
          "metadata": {
            "tags": []
          },
          "execution_count": 28
        }
      ]
    },
    {
      "cell_type": "code",
      "metadata": {
        "id": "c6IrIy7qWWi5",
        "colab_type": "code",
        "outputId": "e97bd787-a526-4057-f3cd-441190868be2",
        "colab": {
          "base_uri": "https://localhost:8080/",
          "height": 111
        }
      },
      "source": [
        "cov_matrix = sec_returns.cov() #calcula a covariancia\n",
        "cov_matrix"
      ],
      "execution_count": 0,
      "outputs": [
        {
          "output_type": "execute_result",
          "data": {
            "text/html": [
              "<div>\n",
              "<style scoped>\n",
              "    .dataframe tbody tr th:only-of-type {\n",
              "        vertical-align: middle;\n",
              "    }\n",
              "\n",
              "    .dataframe tbody tr th {\n",
              "        vertical-align: top;\n",
              "    }\n",
              "\n",
              "    .dataframe thead th {\n",
              "        text-align: right;\n",
              "    }\n",
              "</style>\n",
              "<table border=\"1\" class=\"dataframe\">\n",
              "  <thead>\n",
              "    <tr style=\"text-align: right;\">\n",
              "      <th></th>\n",
              "      <th>PG</th>\n",
              "      <th>BEI.DE</th>\n",
              "    </tr>\n",
              "  </thead>\n",
              "  <tbody>\n",
              "    <tr>\n",
              "      <th>PG</th>\n",
              "      <td>0.000121</td>\n",
              "      <td>0.000039</td>\n",
              "    </tr>\n",
              "    <tr>\n",
              "      <th>BEI.DE</th>\n",
              "      <td>0.000039</td>\n",
              "      <td>0.000187</td>\n",
              "    </tr>\n",
              "  </tbody>\n",
              "</table>\n",
              "</div>"
            ],
            "text/plain": [
              "              PG    BEI.DE\n",
              "PG      0.000121  0.000039\n",
              "BEI.DE  0.000039  0.000187"
            ]
          },
          "metadata": {
            "tags": []
          },
          "execution_count": 29
        }
      ]
    },
    {
      "cell_type": "code",
      "metadata": {
        "id": "JhaTFQpdWduw",
        "colab_type": "code",
        "outputId": "5a26dcbe-3df7-4049-f443-083e1fda2c81",
        "colab": {
          "base_uri": "https://localhost:8080/",
          "height": 111
        }
      },
      "source": [
        "cov_matrix = sec_returns.cov() * 250 #Variancia/Correlação\n",
        "cov_matrix                           #Correlação/Variancia"
      ],
      "execution_count": 0,
      "outputs": [
        {
          "output_type": "execute_result",
          "data": {
            "text/html": [
              "<div>\n",
              "<style scoped>\n",
              "    .dataframe tbody tr th:only-of-type {\n",
              "        vertical-align: middle;\n",
              "    }\n",
              "\n",
              "    .dataframe tbody tr th {\n",
              "        vertical-align: top;\n",
              "    }\n",
              "\n",
              "    .dataframe thead th {\n",
              "        text-align: right;\n",
              "    }\n",
              "</style>\n",
              "<table border=\"1\" class=\"dataframe\">\n",
              "  <thead>\n",
              "    <tr style=\"text-align: right;\">\n",
              "      <th></th>\n",
              "      <th>PG</th>\n",
              "      <th>BEI.DE</th>\n",
              "    </tr>\n",
              "  </thead>\n",
              "  <tbody>\n",
              "    <tr>\n",
              "      <th>PG</th>\n",
              "      <td>0.030132</td>\n",
              "      <td>0.009707</td>\n",
              "    </tr>\n",
              "    <tr>\n",
              "      <th>BEI.DE</th>\n",
              "      <td>0.009707</td>\n",
              "      <td>0.046676</td>\n",
              "    </tr>\n",
              "  </tbody>\n",
              "</table>\n",
              "</div>"
            ],
            "text/plain": [
              "              PG    BEI.DE\n",
              "PG      0.030132  0.009707\n",
              "BEI.DE  0.009707  0.046676"
            ]
          },
          "metadata": {
            "tags": []
          },
          "execution_count": 30
        }
      ]
    },
    {
      "cell_type": "code",
      "metadata": {
        "id": "ehG0ypWAWh6w",
        "colab_type": "code",
        "outputId": "27d27d2e-5ac8-43c4-c06b-f803eff292ae",
        "colab": {
          "base_uri": "https://localhost:8080/",
          "height": 111
        }
      },
      "source": [
        "corr_matrix = sec_returns.corr() #correlação entre retornos, não é necessário anualizar\n",
        "corr_matrix"
      ],
      "execution_count": 0,
      "outputs": [
        {
          "output_type": "execute_result",
          "data": {
            "text/html": [
              "<div>\n",
              "<style scoped>\n",
              "    .dataframe tbody tr th:only-of-type {\n",
              "        vertical-align: middle;\n",
              "    }\n",
              "\n",
              "    .dataframe tbody tr th {\n",
              "        vertical-align: top;\n",
              "    }\n",
              "\n",
              "    .dataframe thead th {\n",
              "        text-align: right;\n",
              "    }\n",
              "</style>\n",
              "<table border=\"1\" class=\"dataframe\">\n",
              "  <thead>\n",
              "    <tr style=\"text-align: right;\">\n",
              "      <th></th>\n",
              "      <th>PG</th>\n",
              "      <th>BEI.DE</th>\n",
              "    </tr>\n",
              "  </thead>\n",
              "  <tbody>\n",
              "    <tr>\n",
              "      <th>PG</th>\n",
              "      <td>1.00000</td>\n",
              "      <td>0.25885</td>\n",
              "    </tr>\n",
              "    <tr>\n",
              "      <th>BEI.DE</th>\n",
              "      <td>0.25885</td>\n",
              "      <td>1.00000</td>\n",
              "    </tr>\n",
              "  </tbody>\n",
              "</table>\n",
              "</div>"
            ],
            "text/plain": [
              "             PG   BEI.DE\n",
              "PG      1.00000  0.25885\n",
              "BEI.DE  0.25885  1.00000"
            ]
          },
          "metadata": {
            "tags": []
          },
          "execution_count": 32
        }
      ]
    },
    {
      "cell_type": "markdown",
      "metadata": {
        "id": "-7Fu3CylYS3w",
        "colab_type": "text"
      },
      "source": [
        "# Risco de multiplos ativos\n",
        " * (w1s1 + w2s2)^2 = ab^2 +2ab + 2^2\n",
        "  * w=peso\n",
        "  * s = desvio padrao\n",
        "  * no 2ab = correção da soma vezes 2\n",
        "  \n",
        " "
      ]
    },
    {
      "cell_type": "code",
      "metadata": {
        "id": "txt8d2jbYU0e",
        "colab_type": "code",
        "colab": {}
      },
      "source": [
        "weights = np.array([0.5,0.5])"
      ],
      "execution_count": 0,
      "outputs": []
    },
    {
      "cell_type": "code",
      "metadata": {
        "id": "lQ4HlX1NZAWt",
        "colab_type": "code",
        "outputId": "8725e176-da8c-440e-b67f-731d293518d9",
        "colab": {
          "base_uri": "https://localhost:8080/",
          "height": 34
        }
      },
      "source": [
        "pfolio_var = np.dot(weights.T, np.dot(sec_returns.cov() * 250, weights)) #.T na matriz = matriz transposta, multiplicando matrizes\n",
        "pfolio_var #variancia da carteira"
      ],
      "execution_count": 15,
      "outputs": [
        {
          "output_type": "execute_result",
          "data": {
            "text/plain": [
              "0.02405546359515484"
            ]
          },
          "metadata": {
            "tags": []
          },
          "execution_count": 15
        }
      ]
    },
    {
      "cell_type": "code",
      "metadata": {
        "id": "ux1HTe0yZJ6T",
        "colab_type": "code",
        "outputId": "57ab965d-5b09-4e5f-91d0-8b331dd14e08",
        "colab": {
          "base_uri": "https://localhost:8080/",
          "height": 34
        }
      },
      "source": [
        "pfolio_vol = (np.dot(weights.T, np.dot(sec_returns.cov() * 250, weights))) ** 0.5\n",
        "print (str(round(pfolio_vol,5) * 100) + '%') #volatilidade"
      ],
      "execution_count": 0,
      "outputs": [
        {
          "output_type": "stream",
          "text": [
            "15.509999999999998%\n"
          ],
          "name": "stdout"
        }
      ]
    },
    {
      "cell_type": "markdown",
      "metadata": {
        "id": "FGS3QH2pD_40",
        "colab_type": "text"
      },
      "source": [
        "#Tipos de risco\n",
        " * Risco sistemático ou não diversificado: \n",
        "  * Recessão, guerra, eventos de natureza, baixo consumo\n",
        " * Risco não sistemático ou diversificado:\n",
        "  * A partir de 20,30 ações de setores diferentes (ativos que tem baixa ou nenhuma correlação)\n",
        "  * = Variancia do portfolio - variancia anual ponderada\n",
        "  * dr = pfolio_var - (weights[0] ** 2 * PG_var_a) - (weights[1] ** 2 * BEI_var_a) #Certo"
      ]
    },
    {
      "cell_type": "code",
      "metadata": {
        "id": "mNERJ1TqFMUE",
        "colab_type": "code",
        "colab": {}
      },
      "source": [
        "weights = np.array([0.5,0.5])"
      ],
      "execution_count": 0,
      "outputs": []
    },
    {
      "cell_type": "code",
      "metadata": {
        "id": "GW-jxMYeFusH",
        "colab_type": "code",
        "colab": {
          "base_uri": "https://localhost:8080/",
          "height": 34
        },
        "outputId": "518b3541-ac55-4ea5-f749-c4f837a33381"
      },
      "source": [
        "weights[0]"
      ],
      "execution_count": 9,
      "outputs": [
        {
          "output_type": "execute_result",
          "data": {
            "text/plain": [
              "0.5"
            ]
          },
          "metadata": {
            "tags": []
          },
          "execution_count": 9
        }
      ]
    },
    {
      "cell_type": "code",
      "metadata": {
        "id": "uxqqJL1LFxAE",
        "colab_type": "code",
        "colab": {
          "base_uri": "https://localhost:8080/",
          "height": 34
        },
        "outputId": "90ca5055-6c9e-4f17-babf-51494d41db43"
      },
      "source": [
        "weights[1]"
      ],
      "execution_count": 10,
      "outputs": [
        {
          "output_type": "execute_result",
          "data": {
            "text/plain": [
              "0.5"
            ]
          },
          "metadata": {
            "tags": []
          },
          "execution_count": 10
        }
      ]
    },
    {
      "cell_type": "code",
      "metadata": {
        "id": "oqDLMAlPFzns",
        "colab_type": "code",
        "colab": {
          "base_uri": "https://localhost:8080/",
          "height": 51
        },
        "outputId": "7ef686b8-ba9a-429b-eab5-3c12975183da"
      },
      "source": [
        "#Risco Diversificavel = variancia do portfolio - variancia anual ponderada\n",
        "PG_var_a = sec_returns[['PG']].var() * 250\n",
        "PG_var_a"
      ],
      "execution_count": 12,
      "outputs": [
        {
          "output_type": "execute_result",
          "data": {
            "text/plain": [
              "PG    0.030132\n",
              "dtype: float64"
            ]
          },
          "metadata": {
            "tags": []
          },
          "execution_count": 12
        }
      ]
    },
    {
      "cell_type": "code",
      "metadata": {
        "id": "MaqA-YB_GDXb",
        "colab_type": "code",
        "colab": {
          "base_uri": "https://localhost:8080/",
          "height": 51
        },
        "outputId": "5f5ccb11-c711-48de-f405-7af60d911868"
      },
      "source": [
        "BEI_var_a = sec_returns[['BEI.DE']].var() * 250\n",
        "BEI_var_a"
      ],
      "execution_count": 13,
      "outputs": [
        {
          "output_type": "execute_result",
          "data": {
            "text/plain": [
              "BEI.DE    0.046676\n",
              "dtype: float64"
            ]
          },
          "metadata": {
            "tags": []
          },
          "execution_count": 13
        }
      ]
    },
    {
      "cell_type": "code",
      "metadata": {
        "id": "MpgAJ0K0GI_z",
        "colab_type": "code",
        "colab": {
          "base_uri": "https://localhost:8080/",
          "height": 68
        },
        "outputId": "58832881-d6c6-427d-cfeb-69cb7c8306c3"
      },
      "source": [
        "dr = pfolio_var - (weights[0] ** 2 * PG_var_a) - (weights[1] ** 2 * BEI_var_a) #Errado\n",
        "dr"
      ],
      "execution_count": 16,
      "outputs": [
        {
          "output_type": "execute_result",
          "data": {
            "text/plain": [
              "BEI.DE   NaN\n",
              "PG       NaN\n",
              "dtype: float64"
            ]
          },
          "metadata": {
            "tags": []
          },
          "execution_count": 16
        }
      ]
    },
    {
      "cell_type": "code",
      "metadata": {
        "id": "cmx8CXuIGZl6",
        "colab_type": "code",
        "colab": {
          "base_uri": "https://localhost:8080/",
          "height": 34
        },
        "outputId": "b6cee086-6421-4423-f37a-31751a39306b"
      },
      "source": [
        "PG_var_a = sec_returns['PG'].var() * 250\n",
        "PG_var_a"
      ],
      "execution_count": 17,
      "outputs": [
        {
          "output_type": "execute_result",
          "data": {
            "text/plain": [
              "0.030131854870131834"
            ]
          },
          "metadata": {
            "tags": []
          },
          "execution_count": 17
        }
      ]
    },
    {
      "cell_type": "code",
      "metadata": {
        "id": "4ion7uIuGuIi",
        "colab_type": "code",
        "colab": {
          "base_uri": "https://localhost:8080/",
          "height": 34
        },
        "outputId": "86f777c3-535d-4c4d-914c-62c784417325"
      },
      "source": [
        "BEI_var_a = sec_returns['BEI.DE'].var() * 250\n",
        "BEI_var_a"
      ],
      "execution_count": 18,
      "outputs": [
        {
          "output_type": "execute_result",
          "data": {
            "text/plain": [
              "0.04667583584976809"
            ]
          },
          "metadata": {
            "tags": []
          },
          "execution_count": 18
        }
      ]
    },
    {
      "cell_type": "code",
      "metadata": {
        "id": "M01UVmozG0GZ",
        "colab_type": "code",
        "colab": {
          "base_uri": "https://localhost:8080/",
          "height": 34
        },
        "outputId": "38f33a80-86ba-4d42-9720-a09ccfec56fd"
      },
      "source": [
        "dr = pfolio_var - (weights[0] ** 2 * PG_var_a) - (weights[1] ** 2 * BEI_var_a) #Certo\n",
        "dr"
      ],
      "execution_count": 20,
      "outputs": [
        {
          "output_type": "execute_result",
          "data": {
            "text/plain": [
              "0.004853540915179859"
            ]
          },
          "metadata": {
            "tags": []
          },
          "execution_count": 20
        }
      ]
    },
    {
      "cell_type": "code",
      "metadata": {
        "id": "uaJZSTOCG48i",
        "colab_type": "code",
        "colab": {
          "base_uri": "https://localhost:8080/",
          "height": 34
        },
        "outputId": "115aeb4d-89d7-4ccc-8473-e6b987bd7cd5"
      },
      "source": [
        "print (str(round(dr*100,3)) + '%')"
      ],
      "execution_count": 22,
      "outputs": [
        {
          "output_type": "stream",
          "text": [
            "0.485%\n"
          ],
          "name": "stdout"
        }
      ]
    },
    {
      "cell_type": "code",
      "metadata": {
        "id": "3An3zYALG8pJ",
        "colab_type": "code",
        "colab": {
          "base_uri": "https://localhost:8080/",
          "height": 34
        },
        "outputId": "046b7413-4f2c-40b8-f377-727fd10af0f9"
      },
      "source": [
        "n_dr_1 = pfolio_var - dr #Risco nao diversificado\n",
        "n_dr_1"
      ],
      "execution_count": 23,
      "outputs": [
        {
          "output_type": "execute_result",
          "data": {
            "text/plain": [
              "0.019201922679974982"
            ]
          },
          "metadata": {
            "tags": []
          },
          "execution_count": 23
        }
      ]
    },
    {
      "cell_type": "code",
      "metadata": {
        "id": "teRC-CUWHQp4",
        "colab_type": "code",
        "colab": {
          "base_uri": "https://localhost:8080/",
          "height": 34
        },
        "outputId": "5069f2ec-44d1-48e2-8920-ad4fe89d146f"
      },
      "source": [
        "n_dr_2 = (weights[0] ** 2 * PG_var_a) + (weights[1] ** 2 * BEI_var_a)\n",
        "n_dr_2"
      ],
      "execution_count": 24,
      "outputs": [
        {
          "output_type": "execute_result",
          "data": {
            "text/plain": [
              "0.019201922679974982"
            ]
          },
          "metadata": {
            "tags": []
          },
          "execution_count": 24
        }
      ]
    },
    {
      "cell_type": "code",
      "metadata": {
        "id": "8KSXXS9EHZoY",
        "colab_type": "code",
        "colab": {
          "base_uri": "https://localhost:8080/",
          "height": 34
        },
        "outputId": "06542a96-30af-46d9-c01f-ae1159258cf8"
      },
      "source": [
        "n_dr_1 == n_dr_2"
      ],
      "execution_count": 25,
      "outputs": [
        {
          "output_type": "execute_result",
          "data": {
            "text/plain": [
              "True"
            ]
          },
          "metadata": {
            "tags": []
          },
          "execution_count": 25
        }
      ]
    },
    {
      "cell_type": "markdown",
      "metadata": {
        "id": "agfrIu4ZIu-M",
        "colab_type": "text"
      },
      "source": [
        "#Regressão\n",
        " * Variavel Explicativa\n",
        "  * Tamanho da casa\n",
        " * Variavel dependente\n",
        "  * Preço\n",
        " * Regressao Simples\n",
        "  * y = a +bx"
      ]
    },
    {
      "cell_type": "code",
      "metadata": {
        "id": "GROpZj0LJ08Q",
        "colab_type": "code",
        "colab": {}
      },
      "source": [
        "import numpy as np\n",
        "import pandas as pd\n",
        "\n",
        "from scipy import stats\n",
        "import statsmodels.api as sm\n",
        "\n",
        "import matplotlib.pyplot as plt"
      ],
      "execution_count": 0,
      "outputs": []
    },
    {
      "cell_type": "code",
      "metadata": {
        "id": "zFpQiVFTJ8li",
        "colab_type": "code",
        "colab": {}
      },
      "source": [
        "data = pd.read_excel('/content/drive/Unifacs/Semestre4/Laboratorio/Housing.xlsx')"
      ],
      "execution_count": 0,
      "outputs": []
    },
    {
      "cell_type": "code",
      "metadata": {
        "id": "dnQzgSPoLcXI",
        "colab_type": "code",
        "colab": {
          "base_uri": "https://localhost:8080/",
          "height": 669
        },
        "outputId": "d98e8f6b-9e52-445a-93e9-59ce6b206ae7"
      },
      "source": [
        "data"
      ],
      "execution_count": 31,
      "outputs": [
        {
          "output_type": "execute_result",
          "data": {
            "text/html": [
              "<div>\n",
              "<style scoped>\n",
              "    .dataframe tbody tr th:only-of-type {\n",
              "        vertical-align: middle;\n",
              "    }\n",
              "\n",
              "    .dataframe tbody tr th {\n",
              "        vertical-align: top;\n",
              "    }\n",
              "\n",
              "    .dataframe thead th {\n",
              "        text-align: right;\n",
              "    }\n",
              "</style>\n",
              "<table border=\"1\" class=\"dataframe\">\n",
              "  <thead>\n",
              "    <tr style=\"text-align: right;\">\n",
              "      <th></th>\n",
              "      <th>House Price</th>\n",
              "      <th>House Size (sq.ft.)</th>\n",
              "      <th>State</th>\n",
              "      <th>Number of Rooms</th>\n",
              "      <th>Year of Construction</th>\n",
              "    </tr>\n",
              "  </thead>\n",
              "  <tbody>\n",
              "    <tr>\n",
              "      <th>0</th>\n",
              "      <td>1116000</td>\n",
              "      <td>1940</td>\n",
              "      <td>IN</td>\n",
              "      <td>8</td>\n",
              "      <td>2002</td>\n",
              "    </tr>\n",
              "    <tr>\n",
              "      <th>1</th>\n",
              "      <td>860000</td>\n",
              "      <td>1300</td>\n",
              "      <td>IN</td>\n",
              "      <td>5</td>\n",
              "      <td>1992</td>\n",
              "    </tr>\n",
              "    <tr>\n",
              "      <th>2</th>\n",
              "      <td>818400</td>\n",
              "      <td>1420</td>\n",
              "      <td>IN</td>\n",
              "      <td>6</td>\n",
              "      <td>1987</td>\n",
              "    </tr>\n",
              "    <tr>\n",
              "      <th>3</th>\n",
              "      <td>1000000</td>\n",
              "      <td>1680</td>\n",
              "      <td>IN</td>\n",
              "      <td>7</td>\n",
              "      <td>2000</td>\n",
              "    </tr>\n",
              "    <tr>\n",
              "      <th>4</th>\n",
              "      <td>640000</td>\n",
              "      <td>1270</td>\n",
              "      <td>IN</td>\n",
              "      <td>5</td>\n",
              "      <td>1995</td>\n",
              "    </tr>\n",
              "    <tr>\n",
              "      <th>5</th>\n",
              "      <td>1010000</td>\n",
              "      <td>1850</td>\n",
              "      <td>IN</td>\n",
              "      <td>7</td>\n",
              "      <td>1998</td>\n",
              "    </tr>\n",
              "    <tr>\n",
              "      <th>6</th>\n",
              "      <td>600000</td>\n",
              "      <td>1000</td>\n",
              "      <td>IN</td>\n",
              "      <td>4</td>\n",
              "      <td>2015</td>\n",
              "    </tr>\n",
              "    <tr>\n",
              "      <th>7</th>\n",
              "      <td>700000</td>\n",
              "      <td>1100</td>\n",
              "      <td>LA</td>\n",
              "      <td>4</td>\n",
              "      <td>2014</td>\n",
              "    </tr>\n",
              "    <tr>\n",
              "      <th>8</th>\n",
              "      <td>1100000</td>\n",
              "      <td>1600</td>\n",
              "      <td>LA</td>\n",
              "      <td>7</td>\n",
              "      <td>2017</td>\n",
              "    </tr>\n",
              "    <tr>\n",
              "      <th>9</th>\n",
              "      <td>570000</td>\n",
              "      <td>1000</td>\n",
              "      <td>NY</td>\n",
              "      <td>5</td>\n",
              "      <td>1997</td>\n",
              "    </tr>\n",
              "    <tr>\n",
              "      <th>10</th>\n",
              "      <td>860000</td>\n",
              "      <td>2150</td>\n",
              "      <td>NY</td>\n",
              "      <td>9</td>\n",
              "      <td>1997</td>\n",
              "    </tr>\n",
              "    <tr>\n",
              "      <th>11</th>\n",
              "      <td>1085000</td>\n",
              "      <td>1900</td>\n",
              "      <td>NY</td>\n",
              "      <td>9</td>\n",
              "      <td>2000</td>\n",
              "    </tr>\n",
              "    <tr>\n",
              "      <th>12</th>\n",
              "      <td>1250000</td>\n",
              "      <td>2200</td>\n",
              "      <td>NY</td>\n",
              "      <td>9</td>\n",
              "      <td>2014</td>\n",
              "    </tr>\n",
              "    <tr>\n",
              "      <th>13</th>\n",
              "      <td>850000</td>\n",
              "      <td>1100</td>\n",
              "      <td>TX</td>\n",
              "      <td>4</td>\n",
              "      <td>2017</td>\n",
              "    </tr>\n",
              "    <tr>\n",
              "      <th>14</th>\n",
              "      <td>640000</td>\n",
              "      <td>860</td>\n",
              "      <td>TX</td>\n",
              "      <td>4</td>\n",
              "      <td>1997</td>\n",
              "    </tr>\n",
              "    <tr>\n",
              "      <th>15</th>\n",
              "      <td>900000</td>\n",
              "      <td>1325</td>\n",
              "      <td>TX</td>\n",
              "      <td>6</td>\n",
              "      <td>1997</td>\n",
              "    </tr>\n",
              "    <tr>\n",
              "      <th>16</th>\n",
              "      <td>730000</td>\n",
              "      <td>1350</td>\n",
              "      <td>TX</td>\n",
              "      <td>6</td>\n",
              "      <td>2000</td>\n",
              "    </tr>\n",
              "    <tr>\n",
              "      <th>17</th>\n",
              "      <td>750000</td>\n",
              "      <td>1600</td>\n",
              "      <td>TX</td>\n",
              "      <td>6</td>\n",
              "      <td>1992</td>\n",
              "    </tr>\n",
              "    <tr>\n",
              "      <th>18</th>\n",
              "      <td>650000</td>\n",
              "      <td>950</td>\n",
              "      <td>TX</td>\n",
              "      <td>2</td>\n",
              "      <td>1987</td>\n",
              "    </tr>\n",
              "    <tr>\n",
              "      <th>19</th>\n",
              "      <td>680000</td>\n",
              "      <td>1250</td>\n",
              "      <td>TX</td>\n",
              "      <td>4</td>\n",
              "      <td>2000</td>\n",
              "    </tr>\n",
              "  </tbody>\n",
              "</table>\n",
              "</div>"
            ],
            "text/plain": [
              "    House Price  House Size (sq.ft.)  ... Number of Rooms  Year of Construction\n",
              "0       1116000                 1940  ...               8                  2002\n",
              "1        860000                 1300  ...               5                  1992\n",
              "2        818400                 1420  ...               6                  1987\n",
              "3       1000000                 1680  ...               7                  2000\n",
              "4        640000                 1270  ...               5                  1995\n",
              "5       1010000                 1850  ...               7                  1998\n",
              "6        600000                 1000  ...               4                  2015\n",
              "7        700000                 1100  ...               4                  2014\n",
              "8       1100000                 1600  ...               7                  2017\n",
              "9        570000                 1000  ...               5                  1997\n",
              "10       860000                 2150  ...               9                  1997\n",
              "11      1085000                 1900  ...               9                  2000\n",
              "12      1250000                 2200  ...               9                  2014\n",
              "13       850000                 1100  ...               4                  2017\n",
              "14       640000                  860  ...               4                  1997\n",
              "15       900000                 1325  ...               6                  1997\n",
              "16       730000                 1350  ...               6                  2000\n",
              "17       750000                 1600  ...               6                  1992\n",
              "18       650000                  950  ...               2                  1987\n",
              "19       680000                 1250  ...               4                  2000\n",
              "\n",
              "[20 rows x 5 columns]"
            ]
          },
          "metadata": {
            "tags": []
          },
          "execution_count": 31
        }
      ]
    },
    {
      "cell_type": "code",
      "metadata": {
        "id": "2PhZu0-cLdK2",
        "colab_type": "code",
        "colab": {
          "base_uri": "https://localhost:8080/",
          "height": 669
        },
        "outputId": "970a6933-9f1c-4447-bd5f-915f85b01b2c"
      },
      "source": [
        "data[['House Price', 'House Size (sq.ft.)']]"
      ],
      "execution_count": 32,
      "outputs": [
        {
          "output_type": "execute_result",
          "data": {
            "text/html": [
              "<div>\n",
              "<style scoped>\n",
              "    .dataframe tbody tr th:only-of-type {\n",
              "        vertical-align: middle;\n",
              "    }\n",
              "\n",
              "    .dataframe tbody tr th {\n",
              "        vertical-align: top;\n",
              "    }\n",
              "\n",
              "    .dataframe thead th {\n",
              "        text-align: right;\n",
              "    }\n",
              "</style>\n",
              "<table border=\"1\" class=\"dataframe\">\n",
              "  <thead>\n",
              "    <tr style=\"text-align: right;\">\n",
              "      <th></th>\n",
              "      <th>House Price</th>\n",
              "      <th>House Size (sq.ft.)</th>\n",
              "    </tr>\n",
              "  </thead>\n",
              "  <tbody>\n",
              "    <tr>\n",
              "      <th>0</th>\n",
              "      <td>1116000</td>\n",
              "      <td>1940</td>\n",
              "    </tr>\n",
              "    <tr>\n",
              "      <th>1</th>\n",
              "      <td>860000</td>\n",
              "      <td>1300</td>\n",
              "    </tr>\n",
              "    <tr>\n",
              "      <th>2</th>\n",
              "      <td>818400</td>\n",
              "      <td>1420</td>\n",
              "    </tr>\n",
              "    <tr>\n",
              "      <th>3</th>\n",
              "      <td>1000000</td>\n",
              "      <td>1680</td>\n",
              "    </tr>\n",
              "    <tr>\n",
              "      <th>4</th>\n",
              "      <td>640000</td>\n",
              "      <td>1270</td>\n",
              "    </tr>\n",
              "    <tr>\n",
              "      <th>5</th>\n",
              "      <td>1010000</td>\n",
              "      <td>1850</td>\n",
              "    </tr>\n",
              "    <tr>\n",
              "      <th>6</th>\n",
              "      <td>600000</td>\n",
              "      <td>1000</td>\n",
              "    </tr>\n",
              "    <tr>\n",
              "      <th>7</th>\n",
              "      <td>700000</td>\n",
              "      <td>1100</td>\n",
              "    </tr>\n",
              "    <tr>\n",
              "      <th>8</th>\n",
              "      <td>1100000</td>\n",
              "      <td>1600</td>\n",
              "    </tr>\n",
              "    <tr>\n",
              "      <th>9</th>\n",
              "      <td>570000</td>\n",
              "      <td>1000</td>\n",
              "    </tr>\n",
              "    <tr>\n",
              "      <th>10</th>\n",
              "      <td>860000</td>\n",
              "      <td>2150</td>\n",
              "    </tr>\n",
              "    <tr>\n",
              "      <th>11</th>\n",
              "      <td>1085000</td>\n",
              "      <td>1900</td>\n",
              "    </tr>\n",
              "    <tr>\n",
              "      <th>12</th>\n",
              "      <td>1250000</td>\n",
              "      <td>2200</td>\n",
              "    </tr>\n",
              "    <tr>\n",
              "      <th>13</th>\n",
              "      <td>850000</td>\n",
              "      <td>1100</td>\n",
              "    </tr>\n",
              "    <tr>\n",
              "      <th>14</th>\n",
              "      <td>640000</td>\n",
              "      <td>860</td>\n",
              "    </tr>\n",
              "    <tr>\n",
              "      <th>15</th>\n",
              "      <td>900000</td>\n",
              "      <td>1325</td>\n",
              "    </tr>\n",
              "    <tr>\n",
              "      <th>16</th>\n",
              "      <td>730000</td>\n",
              "      <td>1350</td>\n",
              "    </tr>\n",
              "    <tr>\n",
              "      <th>17</th>\n",
              "      <td>750000</td>\n",
              "      <td>1600</td>\n",
              "    </tr>\n",
              "    <tr>\n",
              "      <th>18</th>\n",
              "      <td>650000</td>\n",
              "      <td>950</td>\n",
              "    </tr>\n",
              "    <tr>\n",
              "      <th>19</th>\n",
              "      <td>680000</td>\n",
              "      <td>1250</td>\n",
              "    </tr>\n",
              "  </tbody>\n",
              "</table>\n",
              "</div>"
            ],
            "text/plain": [
              "    House Price  House Size (sq.ft.)\n",
              "0       1116000                 1940\n",
              "1        860000                 1300\n",
              "2        818400                 1420\n",
              "3       1000000                 1680\n",
              "4        640000                 1270\n",
              "5       1010000                 1850\n",
              "6        600000                 1000\n",
              "7        700000                 1100\n",
              "8       1100000                 1600\n",
              "9        570000                 1000\n",
              "10       860000                 2150\n",
              "11      1085000                 1900\n",
              "12      1250000                 2200\n",
              "13       850000                 1100\n",
              "14       640000                  860\n",
              "15       900000                 1325\n",
              "16       730000                 1350\n",
              "17       750000                 1600\n",
              "18       650000                  950\n",
              "19       680000                 1250"
            ]
          },
          "metadata": {
            "tags": []
          },
          "execution_count": 32
        }
      ]
    },
    {
      "cell_type": "code",
      "metadata": {
        "id": "trfMEfp6LncG",
        "colab_type": "code",
        "colab": {}
      },
      "source": [
        "X = data['House Size (sq.ft.)']\n",
        "Y = data['House Price']"
      ],
      "execution_count": 0,
      "outputs": []
    },
    {
      "cell_type": "code",
      "metadata": {
        "id": "ouKHc2N2L1m-",
        "colab_type": "code",
        "colab": {
          "base_uri": "https://localhost:8080/",
          "height": 374
        },
        "outputId": "c992b4ab-c551-43d3-8430-b0e368711e0e"
      },
      "source": [
        "X"
      ],
      "execution_count": 34,
      "outputs": [
        {
          "output_type": "execute_result",
          "data": {
            "text/plain": [
              "0     1940\n",
              "1     1300\n",
              "2     1420\n",
              "3     1680\n",
              "4     1270\n",
              "5     1850\n",
              "6     1000\n",
              "7     1100\n",
              "8     1600\n",
              "9     1000\n",
              "10    2150\n",
              "11    1900\n",
              "12    2200\n",
              "13    1100\n",
              "14     860\n",
              "15    1325\n",
              "16    1350\n",
              "17    1600\n",
              "18     950\n",
              "19    1250\n",
              "Name: House Size (sq.ft.), dtype: int64"
            ]
          },
          "metadata": {
            "tags": []
          },
          "execution_count": 34
        }
      ]
    },
    {
      "cell_type": "code",
      "metadata": {
        "id": "uIMi5_l7L28m",
        "colab_type": "code",
        "colab": {
          "base_uri": "https://localhost:8080/",
          "height": 374
        },
        "outputId": "483cea4f-4b7b-48de-d4db-51c414ed05cd"
      },
      "source": [
        "Y"
      ],
      "execution_count": 35,
      "outputs": [
        {
          "output_type": "execute_result",
          "data": {
            "text/plain": [
              "0     1116000\n",
              "1      860000\n",
              "2      818400\n",
              "3     1000000\n",
              "4      640000\n",
              "5     1010000\n",
              "6      600000\n",
              "7      700000\n",
              "8     1100000\n",
              "9      570000\n",
              "10     860000\n",
              "11    1085000\n",
              "12    1250000\n",
              "13     850000\n",
              "14     640000\n",
              "15     900000\n",
              "16     730000\n",
              "17     750000\n",
              "18     650000\n",
              "19     680000\n",
              "Name: House Price, dtype: int64"
            ]
          },
          "metadata": {
            "tags": []
          },
          "execution_count": 35
        }
      ]
    },
    {
      "cell_type": "code",
      "metadata": {
        "id": "600yYGYSL3l2",
        "colab_type": "code",
        "colab": {
          "base_uri": "https://localhost:8080/",
          "height": 269
        },
        "outputId": "9f5f2d49-2d7f-4109-b704-27984d7bb518"
      },
      "source": [
        "plt.scatter(X,Y) #Dispersao\n",
        "plt.show()"
      ],
      "execution_count": 36,
      "outputs": [
        {
          "output_type": "display_data",
          "data": {
            "image/png": "[encoded data removed]",
            "text/plain": [
              "<Figure size 432x288 with 1 Axes>"
            ]
          },
          "metadata": {
            "tags": []
          }
        }
      ]
    },
    {
      "cell_type": "code",
      "metadata": {
        "id": "qmt3HQNyL85V",
        "colab_type": "code",
        "colab": {
          "base_uri": "https://localhost:8080/",
          "height": 269
        },
        "outputId": "2d93e1d4-51a2-40a3-f296-724ebbe901bd"
      },
      "source": [
        "plt.scatter(X,Y) \n",
        "plt.axis([0,2500,0,1500000]) #valores de X e Y respectivamente entre 0 e 2500 e 0 e 1,5kk\n",
        "plt.show()"
      ],
      "execution_count": 37,
      "outputs": [
        {
          "output_type": "display_data",
          "data": {
            "image/png": "[encoded data removed]",
            "text/plain": [
              "<Figure size 432x288 with 1 Axes>"
            ]
          },
          "metadata": {
            "tags": []
          }
        }
      ]
    },
    {
      "cell_type": "code",
      "metadata": {
        "id": "ZiAhao3dMWQl",
        "colab_type": "code",
        "colab": {
          "base_uri": "https://localhost:8080/",
          "height": 283
        },
        "outputId": "80035a6f-e905-49f7-de54-5fb4f1f8a342"
      },
      "source": [
        "plt.scatter(X,Y) \n",
        "plt.axis([0,2500,0,1500000]) \n",
        "plt.ylabel('House Price')\n",
        "plt.xlabel('House Size (sq.ft)')\n",
        "plt.show()"
      ],
      "execution_count": 38,
      "outputs": [
        {
          "output_type": "display_data",
          "data": {
            "image/png": "[encoded data removed]",
            "text/plain": [
              "<Figure size 432x288 with 1 Axes>"
            ]
          },
          "metadata": {
            "tags": []
          }
        }
      ]
    },
    {
      "cell_type": "markdown",
      "metadata": {
        "id": "1rxNeQbpNErD",
        "colab_type": "text"
      },
      "source": [
        "#Regressao Multipla\n",
        " * Y = a + Bx + erro (residuos)\n",
        " * Regressão boa vs ruim\n",
        "  * R^2: quanto maior melhor."
      ]
    },
    {
      "cell_type": "code",
      "metadata": {
        "id": "MmoMXltjNxEL",
        "colab_type": "code",
        "colab": {
          "base_uri": "https://localhost:8080/",
          "height": 71
        },
        "outputId": "c0234b4f-1baa-46fc-b371-365d85d6cd78"
      },
      "source": [
        "X1 = sm.add_constant(X)\n",
        "reg = sm.OLS(Y,X1).fit() #OLS = Método dos Mínimos Quadrados (MMQ)"
      ],
      "execution_count": 39,
      "outputs": [
        {
          "output_type": "stream",
          "text": [
            "/usr/local/lib/python3.6/dist-packages/numpy/core/fromnumeric.py:2389: FutureWarning: Method .ptp is deprecated and will be removed in a future version. Use numpy.ptp instead.\n",
            "  return ptp(axis=axis, out=out, **kwargs)\n"
          ],
          "name": "stderr"
        }
      ]
    },
    {
      "cell_type": "code",
      "metadata": {
        "id": "r21KJuGIN5tw",
        "colab_type": "code",
        "colab": {
          "base_uri": "https://localhost:8080/",
          "height": 478
        },
        "outputId": "e1c3fd01-c2a2-4f29-93f2-9f3a775fd0a6"
      },
      "source": [
        "reg.summary() #R-squared = 67%, por ser maior q 30, indica ser bom. Alfa = Const, Beta = 401 $"
      ],
      "execution_count": 40,
      "outputs": [
        {
          "output_type": "execute_result",
          "data": {
            "text/html": [
              "<table class=\"simpletable\">\n",
              "<caption>OLS Regression Results</caption>\n",
              "<tr>\n",
              "  <th>Dep. Variable:</th>       <td>House Price</td>   <th>  R-squared:         </th> <td>   0.678</td>\n",
              "</tr>\n",
              "<tr>\n",
              "  <th>Model:</th>                   <td>OLS</td>       <th>  Adj. R-squared:    </th> <td>   0.660</td>\n",
              "</tr>\n",
              "<tr>\n",
              "  <th>Method:</th>             <td>Least Squares</td>  <th>  F-statistic:       </th> <td>   37.95</td>\n",
              "</tr>\n",
              "<tr>\n",
              "  <th>Date:</th>             <td>Sun, 18 Aug 2019</td> <th>  Prob (F-statistic):</th> <td>8.13e-06</td>\n",
              "</tr>\n",
              "<tr>\n",
              "  <th>Time:</th>                 <td>19:35:26</td>     <th>  Log-Likelihood:    </th> <td> -260.43</td>\n",
              "</tr>\n",
              "<tr>\n",
              "  <th>No. Observations:</th>      <td>    20</td>      <th>  AIC:               </th> <td>   524.9</td>\n",
              "</tr>\n",
              "<tr>\n",
              "  <th>Df Residuals:</th>          <td>    18</td>      <th>  BIC:               </th> <td>   526.8</td>\n",
              "</tr>\n",
              "<tr>\n",
              "  <th>Df Model:</th>              <td>     1</td>      <th>                     </th>     <td> </td>   \n",
              "</tr>\n",
              "<tr>\n",
              "  <th>Covariance Type:</th>      <td>nonrobust</td>    <th>                     </th>     <td> </td>   \n",
              "</tr>\n",
              "</table>\n",
              "<table class=\"simpletable\">\n",
              "<tr>\n",
              "           <td></td>              <th>coef</th>     <th>std err</th>      <th>t</th>      <th>P>|t|</th>  <th>[0.025</th>    <th>0.975]</th>  \n",
              "</tr>\n",
              "<tr>\n",
              "  <th>const</th>               <td> 2.608e+05</td> <td> 9.76e+04</td> <td>    2.673</td> <td> 0.016</td> <td> 5.58e+04</td> <td> 4.66e+05</td>\n",
              "</tr>\n",
              "<tr>\n",
              "  <th>House Size (sq.ft.)</th> <td>  401.9163</td> <td>   65.243</td> <td>    6.160</td> <td> 0.000</td> <td>  264.846</td> <td>  538.987</td>\n",
              "</tr>\n",
              "</table>\n",
              "<table class=\"simpletable\">\n",
              "<tr>\n",
              "  <th>Omnibus:</th>       <td> 1.238</td> <th>  Durbin-Watson:     </th> <td>   1.810</td>\n",
              "</tr>\n",
              "<tr>\n",
              "  <th>Prob(Omnibus):</th> <td> 0.538</td> <th>  Jarque-Bera (JB):  </th> <td>   0.715</td>\n",
              "</tr>\n",
              "<tr>\n",
              "  <th>Skew:</th>          <td>-0.459</td> <th>  Prob(JB):          </th> <td>   0.699</td>\n",
              "</tr>\n",
              "<tr>\n",
              "  <th>Kurtosis:</th>      <td> 2.884</td> <th>  Cond. No.          </th> <td>5.66e+03</td>\n",
              "</tr>\n",
              "</table><br/><br/>Warnings:<br/>[1] Standard Errors assume that the covariance matrix of the errors is correctly specified.<br/>[2] The condition number is large, 5.66e+03. This might indicate that there are<br/>strong multicollinearity or other numerical problems."
            ],
            "text/plain": [
              "<class 'statsmodels.iolib.summary.Summary'>\n",
              "\"\"\"\n",
              "                            OLS Regression Results                            \n",
              "==============================================================================\n",
              "Dep. Variable:            House Price   R-squared:                       0.678\n",
              "Model:                            OLS   Adj. R-squared:                  0.660\n",
              "Method:                 Least Squares   F-statistic:                     37.95\n",
              "Date:                Sun, 18 Aug 2019   Prob (F-statistic):           8.13e-06\n",
              "Time:                        19:35:26   Log-Likelihood:                -260.43\n",
              "No. Observations:                  20   AIC:                             524.9\n",
              "Df Residuals:                      18   BIC:                             526.8\n",
              "Df Model:                           1                                         \n",
              "Covariance Type:            nonrobust                                         \n",
              "=======================================================================================\n",
              "                          coef    std err          t      P>|t|      [0.025      0.975]\n",
              "---------------------------------------------------------------------------------------\n",
              "const                2.608e+05   9.76e+04      2.673      0.016    5.58e+04    4.66e+05\n",
              "House Size (sq.ft.)   401.9163     65.243      6.160      0.000     264.846     538.987\n",
              "==============================================================================\n",
              "Omnibus:                        1.238   Durbin-Watson:                   1.810\n",
              "Prob(Omnibus):                  0.538   Jarque-Bera (JB):                0.715\n",
              "Skew:                          -0.459   Prob(JB):                        0.699\n",
              "Kurtosis:                       2.884   Cond. No.                     5.66e+03\n",
              "==============================================================================\n",
              "\n",
              "Warnings:\n",
              "[1] Standard Errors assume that the covariance matrix of the errors is correctly specified.\n",
              "[2] The condition number is large, 5.66e+03. This might indicate that there are\n",
              "strong multicollinearity or other numerical problems.\n",
              "\"\"\""
            ]
          },
          "metadata": {
            "tags": []
          },
          "execution_count": 40
        }
      ]
    },
    {
      "cell_type": "code",
      "metadata": {
        "id": "0d4NeinmOil_",
        "colab_type": "code",
        "colab": {
          "base_uri": "https://localhost:8080/",
          "height": 34
        },
        "outputId": "e7015661-e9bc-4bb9-b4a9-a62b7749161f"
      },
      "source": [
        "Y = A + Bx + erros\n",
        "260800 + 402 * 1000"
      ],
      "execution_count": 41,
      "outputs": [
        {
          "output_type": "execute_result",
          "data": {
            "text/plain": [
              "662800"
            ]
          },
          "metadata": {
            "tags": []
          },
          "execution_count": 41
        }
      ]
    },
    {
      "cell_type": "code",
      "metadata": {
        "id": "1dEdEPmqPOe9",
        "colab_type": "code",
        "colab": {}
      },
      "source": [
        "#Coletar as variaveis mais facilmente:\n",
        "slope, intercept, r_value, p_value, std_err = stats.linregress(X,Y)"
      ],
      "execution_count": 0,
      "outputs": []
    },
    {
      "cell_type": "code",
      "metadata": {
        "id": "OnIMElddPoMl",
        "colab_type": "code",
        "colab": {
          "base_uri": "https://localhost:8080/",
          "height": 34
        },
        "outputId": "524d84d9-7ac6-4675-b33f-3eeebbffa878"
      },
      "source": [
        "slope #Alpha"
      ],
      "execution_count": 43,
      "outputs": [
        {
          "output_type": "execute_result",
          "data": {
            "text/plain": [
              "401.91628631922595"
            ]
          },
          "metadata": {
            "tags": []
          },
          "execution_count": 43
        }
      ]
    },
    {
      "cell_type": "code",
      "metadata": {
        "id": "23XQtKzPPo0V",
        "colab_type": "code",
        "colab": {
          "base_uri": "https://localhost:8080/",
          "height": 34
        },
        "outputId": "7ea1505f-2f40-4551-c6eb-182ca5d7a61b"
      },
      "source": [
        "intercept #Beta"
      ],
      "execution_count": 44,
      "outputs": [
        {
          "output_type": "execute_result",
          "data": {
            "text/plain": [
              "260806.2360560964"
            ]
          },
          "metadata": {
            "tags": []
          },
          "execution_count": 44
        }
      ]
    },
    {
      "cell_type": "code",
      "metadata": {
        "id": "S9FBC4nVPsFM",
        "colab_type": "code",
        "colab": {
          "base_uri": "https://localhost:8080/",
          "height": 34
        },
        "outputId": "c9b46a88-8c25-4e46-81ac-1b77000d2171"
      },
      "source": [
        "r_value ** 2 # valor de R^2"
      ],
      "execution_count": 48,
      "outputs": [
        {
          "output_type": "execute_result",
          "data": {
            "text/plain": [
              "0.678279986579124"
            ]
          },
          "metadata": {
            "tags": []
          },
          "execution_count": 48
        }
      ]
    },
    {
      "cell_type": "code",
      "metadata": {
        "id": "a_2cpWVSPuWs",
        "colab_type": "code",
        "colab": {
          "base_uri": "https://localhost:8080/",
          "height": 34
        },
        "outputId": "412073b1-1f82-47c0-f867-e7597a801036"
      },
      "source": [
        "p_value # valor de P"
      ],
      "execution_count": 46,
      "outputs": [
        {
          "output_type": "execute_result",
          "data": {
            "text/plain": [
              "8.129642377231308e-06"
            ]
          },
          "metadata": {
            "tags": []
          },
          "execution_count": 46
        }
      ]
    },
    {
      "cell_type": "code",
      "metadata": {
        "id": "R0U_FOWrPwU8",
        "colab_type": "code",
        "colab": {
          "base_uri": "https://localhost:8080/",
          "height": 34
        },
        "outputId": "eb21f185-21c3-4658-ba19-67a40161dca5"
      },
      "source": [
        "std_err # erros (residuos)"
      ],
      "execution_count": 47,
      "outputs": [
        {
          "output_type": "execute_result",
          "data": {
            "text/plain": [
              "65.24299510636492"
            ]
          },
          "metadata": {
            "tags": []
          },
          "execution_count": 47
        }
      ]
    }
  ]
}